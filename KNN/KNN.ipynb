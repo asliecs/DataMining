{
  "nbformat": 4,
  "nbformat_minor": 0,
  "metadata": {
    "colab": {
      "provenance": []
    },
    "kernelspec": {
      "name": "python3",
      "display_name": "Python 3"
    },
    "language_info": {
      "name": "python"
    }
  },
  "cells": [
    {
      "cell_type": "code",
      "execution_count": 7,
      "metadata": {
        "id": "8Wc423kvtdRI"
      },
      "outputs": [],
      "source": [
        "import pandas as pd\n",
        "import numpy as np\n",
        "import matplotlib.pyplot as plt\n",
        "import seaborn as sns\n",
        "from sklearn.model_selection import train_test_split\n",
        "from sklearn.metrics import accuracy_score, confusion_matrix, classification_report\n",
        "from sklearn.model_selection import GridSearchCV\n",
        "from sklearn.neighbors import KNeighborsClassifier"
      ]
    },
    {
      "cell_type": "markdown",
      "source": [
        "# Ejercicio 3\n",
        "Esta pregunta utiliza los datos (tumores.csv). Se trata de un conjunto de datos de características del tumor cerebral que incluye cinco variables de primer orden y ocho de textura y cuatro parámetros de evaluación de la calidad con el nivel objetivo. Las variables son: Media, Varianza, Desviación estándar, Asimetría, Kurtosis, Contraste, Energía, ASM (segundo momento angular), Entropía, Homogeneidad, Disimilitud, Correlación, Grosor, PSNR (Pico de la relación señal-ruido), SSIM (Índice de Similitud Estructurada), MSE (Mean Square Error), DC (Coeficiente de Dados) y la variable a predecir tipo (1 = Tumor, 0 = No-Tumor).\n",
        "\n",
        "##Ejercicio 3.1\n",
        "Use el método de K vecinos más cercanos para generar un modelo predictivo para la tabla tumores.csv usando el 75 % de los datos para la tabla aprendizaje y un 25 % para la tabla testing. No olvide recodificar la variable a predecir como categórica"
      ],
      "metadata": {
        "id": "Gp7_bJhDtwz8"
      }
    },
    {
      "cell_type": "code",
      "source": [
        "datos_tumores = pd.read_csv('tumores.csv', header=0, sep=',', decimal='.', index_col=0)\n",
        "\n",
        "datos_tumores['tipo'] = datos_tumores['tipo'].astype('category')\n",
        "\n",
        "\n",
        "train, test = train_test_split(datos_tumores, test_size=0.25, stratify=datos_tumores['tipo'], random_state=42)\n",
        "\n",
        "print(train.shape)\n",
        "print(test.shape)"
      ],
      "metadata": {
        "colab": {
          "base_uri": "https://localhost:8080/"
        },
        "id": "hdE2uo-OujWv",
        "outputId": "487b63a8-bcbe-4978-8d49-2c12c322ff8d"
      },
      "execution_count": 6,
      "outputs": [
        {
          "output_type": "stream",
          "name": "stdout",
          "text": [
            "(956, 17)\n",
            "(319, 17)\n"
          ]
        }
      ]
    },
    {
      "cell_type": "code",
      "source": [
        "#Graficar distribucion de la variable a predecir\n",
        "sns.countplot(x='tipo', data=datos_tumores, palette=\"Set3\")\n",
        "plt.show()"
      ],
      "metadata": {
        "colab": {
          "base_uri": "https://localhost:8080/",
          "height": 556
        },
        "id": "KGevPPZTzpKB",
        "outputId": "c9056d1c-bc95-48ac-de8f-4de36ec7db52"
      },
      "execution_count": 15,
      "outputs": [
        {
          "output_type": "stream",
          "name": "stderr",
          "text": [
            "<ipython-input-15-39f5c283e81d>:2: FutureWarning: \n",
            "\n",
            "Passing `palette` without assigning `hue` is deprecated and will be removed in v0.14.0. Assign the `x` variable to `hue` and set `legend=False` for the same effect.\n",
            "\n",
            "  sns.countplot(x='tipo', data=datos_tumores, palette=\"Set3\")\n"
          ]
        },
        {
          "output_type": "display_data",
          "data": {
            "text/plain": [
              "<Figure size 640x480 with 1 Axes>"
            ],
            "image/png": "[encoded data removed]"
          },
          "metadata": {}
        }
      ]
    },
    {
      "cell_type": "markdown",
      "source": [
        "## Ejercicio 3.2\n",
        "Genere un Modelo Predictivo usando K vecinos más cercanos"
      ],
      "metadata": {
        "id": "WEpWtB3YxFCN"
      }
    },
    {
      "cell_type": "code",
      "source": [
        "X_train = train.drop(columns=['tipo']) #variables predictoras\n",
        "y_train = train['tipo'] #variable objetivo\n",
        "\n",
        "X_test = test.drop(columns=['tipo'])\n",
        "y_test = test['tipo']\n",
        "\n",
        "\n",
        "#crear instancia del clasificador\n",
        "knn_model = KNeighborsClassifier(\n",
        "    n_neighbors=11,       # El valor de n_neighbors es 11\n",
        "    weights='distance',   # El tipo de ponderación es 'distance'\n",
        "    metric='manhattan',   # La métrica de distancia es 'manhattan'\n",
        "    algorithm='auto'      # El algoritmo para la búsqueda de vecinos es 'auto'\n",
        ")\n",
        "\n",
        "#entrenar el modelo\n",
        "knn_model.fit(X_train, y_train)\n",
        "\n",
        "\n",
        "#predicion y evaluacion\n",
        "y_pred = knn_model.predict(X_test)\n",
        "accuracy = accuracy_score(y_test, y_pred)\n",
        "print(f'Accuracy: {accuracy}')\n",
        "confusion_matrix(y_test, y_pred)\n",
        "print(classification_report(y_test, y_pred))\n"
      ],
      "metadata": {
        "colab": {
          "base_uri": "https://localhost:8080/"
        },
        "id": "h-8rL_ApwkoE",
        "outputId": "0516a8f9-f468-4087-cf81-585600cdff07"
      },
      "execution_count": 10,
      "outputs": [
        {
          "output_type": "stream",
          "name": "stdout",
          "text": [
            "Accuracy: 0.9153605015673981\n",
            "              precision    recall  f1-score   support\n",
            "\n",
            "           0       0.20      0.04      0.07        24\n",
            "           1       0.93      0.99      0.96       295\n",
            "\n",
            "    accuracy                           0.92       319\n",
            "   macro avg       0.56      0.51      0.51       319\n",
            "weighted avg       0.87      0.92      0.89       319\n",
            "\n"
          ]
        }
      ]
    },
    {
      "cell_type": "code",
      "source": [
        "#Definir rango de hiperparametros\n",
        "param_grid_knn = {\n",
        "    'n_neighbors': [3, 5, 7, 9, 10, 11],  # Número de vecinos\n",
        "    'weights': ['uniform', 'distance'],  # Peso de los vecinos (uniforme o basado en la distancia)\n",
        "    'metric': ['euclidean', 'manhattan', 'chebyshev'],  # Métricas de distancia\n",
        "    'algorithm': ['auto', 'ball_tree', 'kd_tree', 'brute']  # Algoritmo para la búsqueda de vecinos\n",
        "}\n",
        "\n",
        "# Realizar la búsqueda de hiperparámetros utilizando GridSearchCV\n",
        "grid_search_knn = GridSearchCV(\n",
        "    KNeighborsClassifier(),\n",
        "    param_grid_knn,\n",
        "    cv=5,  # Validación cruzada con 5 pliegues\n",
        "    scoring='accuracy'  # Métrica de evaluación (precisión)\n",
        ")\n",
        "\n",
        "# Ajustar el modelo con los datos de entrenamiento\n",
        "grid_search_knn.fit(X_train, y_train)\n",
        "\n",
        "# Mejor modelo\n",
        "best_knn = grid_search_knn.best_estimator_\n",
        "\n",
        "# Mostrar los mejores parámetros encontrados\n",
        "print(\"Mejores parámetros para KNN:\", grid_search_knn.best_params_)"
      ],
      "metadata": {
        "colab": {
          "base_uri": "https://localhost:8080/"
        },
        "id": "8O6sQOoZx9y5",
        "outputId": "ef09c112-3016-4b4f-e926-099ef4bd7fab"
      },
      "execution_count": 11,
      "outputs": [
        {
          "output_type": "stream",
          "name": "stdout",
          "text": [
            "Mejores parámetros para KNN: {'algorithm': 'auto', 'metric': 'manhattan', 'n_neighbors': 11, 'weights': 'distance'}\n"
          ]
        }
      ]
    },
    {
      "cell_type": "markdown",
      "source": [
        "#Ejercicio 4\n",
        "Esta pregunta utiliza los datos sobre la conocida historia y tragedia del Titanic, usando los datos titanicV2020.csv de los pasajeros se trata de predecir la supervivencia o no de un pasajero. La tabla contiene 12 variables y 1309 observaciones, las variables son:\n",
        "\n",
        "PassegerId: El código de identificación del pasajero (valor único).\n",
        "Survived: Variable a predecir, 1 (el pasajero sobrevivió) 0 (el pasajero no sobrevivió).\n",
        "Pclass: En que clase viajaba el pasajero (1 = primera, 2 = segunda , 3 = tercera).\n",
        "Name: Nombre del pasajero (valor único).\n",
        "Sex: Sexo del pasajero.\n",
        "Age: Edad del pasajero.\n",
        "SibSp: Cantidad de hermanos o cónyuges a bordo del Titanic.\n",
        "Parch: Cantidad de padres o hijos a bordo del Titanic.\n",
        "Ticket: Número de tiquete (valor único).\n",
        "Fare: Tarifa del pasajero.\n",
        "Cabin: Número de cabina (valor único).\n",
        "Embarked: Puerto donde embarco el pasajero (C = Cherbourg, Q = Queenstown, S = Southampton).\n",
        "\n",
        "##Ejercicio 4.1\n",
        "Cargue la tabla de datos titanicV2020.csv, asegúrese re-codificar las variables cualitativas y de ignorar variables que no se deben usar."
      ],
      "metadata": {
        "id": "c-2DvFFp0TYL"
      }
    },
    {
      "cell_type": "code",
      "source": [
        "datos_titanic = pd.read_csv('titanicV2020.csv', header=0, sep = \",\", decimal =\".\", index_col=0)\n",
        "\n",
        "#convertir columna tipo a categorica\n",
        "datos_titanic['Survived'] = datos_titanic['Survived'].astype('category')\n",
        "\n",
        "# Convertir 'Pclass' en un tipo de datos categórico ordenado\n",
        "datos_titanic['Pclass'] = pd.Categorical(datos_titanic['Pclass'], ordered=True)\n",
        "\n",
        "# Eliminar columnas no deseadas ('Name', 'Ticket', 'Cabin')\n",
        "datos_titanic = datos_titanic.drop(columns=['Name', 'Ticket', 'Cabin'])\n",
        "\n",
        "# Eliminar filas con valores faltantes\n",
        "datos_titanic = datos_titanic.dropna()\n",
        "\n",
        "\n",
        "dimesiones = datos_titanic.shape\n",
        "print(dimesiones)\n",
        "print(datos_titanic.dtypes)\n",
        "\n",
        "display(datos_titanic)"
      ],
      "metadata": {
        "colab": {
          "base_uri": "https://localhost:8080/",
          "height": 628
        },
        "id": "FY1asWtL0aZz",
        "outputId": "c2c14a3a-ed79-4efd-a895-879028e8da80"
      },
      "execution_count": 20,
      "outputs": [
        {
          "output_type": "stream",
          "name": "stdout",
          "text": [
            "(1043, 8)\n",
            "Survived    category\n",
            "Pclass      category\n",
            "Sex           object\n",
            "Age          float64\n",
            "SibSp          int64\n",
            "Parch          int64\n",
            "Fare         float64\n",
            "Embarked      object\n",
            "dtype: object\n"
          ]
        },
        {
          "output_type": "display_data",
          "data": {
            "text/plain": [
              "            Survived Pclass     Sex   Age  SibSp  Parch      Fare Embarked\n",
              "PassengerId                                                               \n",
              "1                  0      3    male  22.0      1      0    7.2500        S\n",
              "2                  1      1  female  38.0      1      0   71.2833        C\n",
              "3                  1      3  female  26.0      0      0    7.9250        S\n",
              "4                  1      1  female  35.0      1      0   53.1000        S\n",
              "5                  0      3    male  35.0      0      0    8.0500        S\n",
              "...              ...    ...     ...   ...    ...    ...       ...      ...\n",
              "1301               1      3  female   3.0      1      1   13.7750        S\n",
              "1303               1      1  female  37.0      1      0   90.0000        Q\n",
              "1304               1      3  female  28.0      0      0    7.7750        S\n",
              "1306               1      1  female  39.0      0      0  108.9000        C\n",
              "1307               0      3    male  38.5      0      0    7.2500        S\n",
              "\n",
              "[1043 rows x 8 columns]"
            ],
            "text/html": [
              "\n",
              "  <div id=\"df-6b283be8-78f9-4cc8-ab4e-3a65b93e18fa\" class=\"colab-df-container\">\n",
              "    <div>\n",
              "<style scoped>\n",
              "    .dataframe tbody tr th:only-of-type {\n",
              "        vertical-align: middle;\n",
              "    }\n",
              "\n",
              "    .dataframe tbody tr th {\n",
              "        vertical-align: top;\n",
              "    }\n",
              "\n",
              "    .dataframe thead th {\n",
              "        text-align: right;\n",
              "    }\n",
              "</style>\n",
              "<table border=\"1\" class=\"dataframe\">\n",
              "  <thead>\n",
              "    <tr style=\"text-align: right;\">\n",
              "      <th></th>\n",
              "      <th>Survived</th>\n",
              "      <th>Pclass</th>\n",
              "      <th>Sex</th>\n",
              "      <th>Age</th>\n",
              "      <th>SibSp</th>\n",
              "      <th>Parch</th>\n",
              "      <th>Fare</th>\n",
              "      <th>Embarked</th>\n",
              "    </tr>\n",
              "    <tr>\n",
              "      <th>PassengerId</th>\n",
              "      <th></th>\n",
              "      <th></th>\n",
              "      <th></th>\n",
              "      <th></th>\n",
              "      <th></th>\n",
              "      <th></th>\n",
              "      <th></th>\n",
              "      <th></th>\n",
              "    </tr>\n",
              "  </thead>\n",
              "  <tbody>\n",
              "    <tr>\n",
              "      <th>1</th>\n",
              "      <td>0</td>\n",
              "      <td>3</td>\n",
              "      <td>male</td>\n",
              "      <td>22.0</td>\n",
              "      <td>1</td>\n",
              "      <td>0</td>\n",
              "      <td>7.2500</td>\n",
              "      <td>S</td>\n",
              "    </tr>\n",
              "    <tr>\n",
              "      <th>2</th>\n",
              "      <td>1</td>\n",
              "      <td>1</td>\n",
              "      <td>female</td>\n",
              "      <td>38.0</td>\n",
              "      <td>1</td>\n",
              "      <td>0</td>\n",
              "      <td>71.2833</td>\n",
              "      <td>C</td>\n",
              "    </tr>\n",
              "    <tr>\n",
              "      <th>3</th>\n",
              "      <td>1</td>\n",
              "      <td>3</td>\n",
              "      <td>female</td>\n",
              "      <td>26.0</td>\n",
              "      <td>0</td>\n",
              "      <td>0</td>\n",
              "      <td>7.9250</td>\n",
              "      <td>S</td>\n",
              "    </tr>\n",
              "    <tr>\n",
              "      <th>4</th>\n",
              "      <td>1</td>\n",
              "      <td>1</td>\n",
              "      <td>female</td>\n",
              "      <td>35.0</td>\n",
              "      <td>1</td>\n",
              "      <td>0</td>\n",
              "      <td>53.1000</td>\n",
              "      <td>S</td>\n",
              "    </tr>\n",
              "    <tr>\n",
              "      <th>5</th>\n",
              "      <td>0</td>\n",
              "      <td>3</td>\n",
              "      <td>male</td>\n",
              "      <td>35.0</td>\n",
              "      <td>0</td>\n",
              "      <td>0</td>\n",
              "      <td>8.0500</td>\n",
              "      <td>S</td>\n",
              "    </tr>\n",
              "    <tr>\n",
              "      <th>...</th>\n",
              "      <td>...</td>\n",
              "      <td>...</td>\n",
              "      <td>...</td>\n",
              "      <td>...</td>\n",
              "      <td>...</td>\n",
              "      <td>...</td>\n",
              "      <td>...</td>\n",
              "      <td>...</td>\n",
              "    </tr>\n",
              "    <tr>\n",
              "      <th>1301</th>\n",
              "      <td>1</td>\n",
              "      <td>3</td>\n",
              "      <td>female</td>\n",
              "      <td>3.0</td>\n",
              "      <td>1</td>\n",
              "      <td>1</td>\n",
              "      <td>13.7750</td>\n",
              "      <td>S</td>\n",
              "    </tr>\n",
              "    <tr>\n",
              "      <th>1303</th>\n",
              "      <td>1</td>\n",
              "      <td>1</td>\n",
              "      <td>female</td>\n",
              "      <td>37.0</td>\n",
              "      <td>1</td>\n",
              "      <td>0</td>\n",
              "      <td>90.0000</td>\n",
              "      <td>Q</td>\n",
              "    </tr>\n",
              "    <tr>\n",
              "      <th>1304</th>\n",
              "      <td>1</td>\n",
              "      <td>3</td>\n",
              "      <td>female</td>\n",
              "      <td>28.0</td>\n",
              "      <td>0</td>\n",
              "      <td>0</td>\n",
              "      <td>7.7750</td>\n",
              "      <td>S</td>\n",
              "    </tr>\n",
              "    <tr>\n",
              "      <th>1306</th>\n",
              "      <td>1</td>\n",
              "      <td>1</td>\n",
              "      <td>female</td>\n",
              "      <td>39.0</td>\n",
              "      <td>0</td>\n",
              "      <td>0</td>\n",
              "      <td>108.9000</td>\n",
              "      <td>C</td>\n",
              "    </tr>\n",
              "    <tr>\n",
              "      <th>1307</th>\n",
              "      <td>0</td>\n",
              "      <td>3</td>\n",
              "      <td>male</td>\n",
              "      <td>38.5</td>\n",
              "      <td>0</td>\n",
              "      <td>0</td>\n",
              "      <td>7.2500</td>\n",
              "      <td>S</td>\n",
              "    </tr>\n",
              "  </tbody>\n",
              "</table>\n",
              "<p>1043 rows × 8 columns</p>\n",
              "</div>\n",
              "    <div class=\"colab-df-buttons\">\n",
              "\n",
              "  <div class=\"colab-df-container\">\n",
              "    <button class=\"colab-df-convert\" onclick=\"convertToInteractive('df-6b283be8-78f9-4cc8-ab4e-3a65b93e18fa')\"\n",
              "            title=\"Convert this dataframe to an interactive table.\"\n",
              "            style=\"display:none;\">\n",
              "\n",
              "  <svg xmlns=\"http://www.w3.org/2000/svg\" height=\"24px\" viewBox=\"0 -960 960 960\">\n",
              "    <path d=\"M120-120v-720h720v720H120Zm60-500h600v-160H180v160Zm220 220h160v-160H400v160Zm0 220h160v-160H400v160ZM180-400h160v-160H180v160Zm440 0h160v-160H620v160ZM180-180h160v-160H180v160Zm440 0h160v-160H620v160Z\"/>\n",
              "  </svg>\n",
              "    </button>\n",
              "\n",
              "  <style>\n",
              "    .colab-df-container {\n",
              "      display:flex;\n",
              "      gap: 12px;\n",
              "    }\n",
              "\n",
              "    .colab-df-convert {\n",
              "      background-color: #E8F0FE;\n",
              "      border: none;\n",
              "      border-radius: 50%;\n",
              "      cursor: pointer;\n",
              "      display: none;\n",
              "      fill: #1967D2;\n",
              "      height: 32px;\n",
              "      padding: 0 0 0 0;\n",
              "      width: 32px;\n",
              "    }\n",
              "\n",
              "    .colab-df-convert:hover {\n",
              "      background-color: #E2EBFA;\n",
              "      box-shadow: 0px 1px 2px rgba(60, 64, 67, 0.3), 0px 1px 3px 1px rgba(60, 64, 67, 0.15);\n",
              "      fill: #174EA6;\n",
              "    }\n",
              "\n",
              "    .colab-df-buttons div {\n",
              "      margin-bottom: 4px;\n",
              "    }\n",
              "\n",
              "    [theme=dark] .colab-df-convert {\n",
              "      background-color: #3B4455;\n",
              "      fill: #D2E3FC;\n",
              "    }\n",
              "\n",
              "    [theme=dark] .colab-df-convert:hover {\n",
              "      background-color: #434B5C;\n",
              "      box-shadow: 0px 1px 3px 1px rgba(0, 0, 0, 0.15);\n",
              "      filter: drop-shadow(0px 1px 2px rgba(0, 0, 0, 0.3));\n",
              "      fill: #FFFFFF;\n",
              "    }\n",
              "  </style>\n",
              "\n",
              "    <script>\n",
              "      const buttonEl =\n",
              "        document.querySelector('#df-6b283be8-78f9-4cc8-ab4e-3a65b93e18fa button.colab-df-convert');\n",
              "      buttonEl.style.display =\n",
              "        google.colab.kernel.accessAllowed ? 'block' : 'none';\n",
              "\n",
              "      async function convertToInteractive(key) {\n",
              "        const element = document.querySelector('#df-6b283be8-78f9-4cc8-ab4e-3a65b93e18fa');\n",
              "        const dataTable =\n",
              "          await google.colab.kernel.invokeFunction('convertToInteractive',\n",
              "                                                    [key], {});\n",
              "        if (!dataTable) return;\n",
              "\n",
              "        const docLinkHtml = 'Like what you see? Visit the ' +\n",
              "          '<a target=\"_blank\" href=https://colab.research.google.com/notebooks/data_table.ipynb>data table notebook</a>'\n",
              "          + ' to learn more about interactive tables.';\n",
              "        element.innerHTML = '';\n",
              "        dataTable['output_type'] = 'display_data';\n",
              "        await google.colab.output.renderOutput(dataTable, element);\n",
              "        const docLink = document.createElement('div');\n",
              "        docLink.innerHTML = docLinkHtml;\n",
              "        element.appendChild(docLink);\n",
              "      }\n",
              "    </script>\n",
              "  </div>\n",
              "\n",
              "\n",
              "<div id=\"df-d952f060-6159-4466-b8c8-f70da0328ded\">\n",
              "  <button class=\"colab-df-quickchart\" onclick=\"quickchart('df-d952f060-6159-4466-b8c8-f70da0328ded')\"\n",
              "            title=\"Suggest charts\"\n",
              "            style=\"display:none;\">\n",
              "\n",
              "<svg xmlns=\"http://www.w3.org/2000/svg\" height=\"24px\"viewBox=\"0 0 24 24\"\n",
              "     width=\"24px\">\n",
              "    <g>\n",
              "        <path d=\"M19 3H5c-1.1 0-2 .9-2 2v14c0 1.1.9 2 2 2h14c1.1 0 2-.9 2-2V5c0-1.1-.9-2-2-2zM9 17H7v-7h2v7zm4 0h-2V7h2v10zm4 0h-2v-4h2v4z\"/>\n",
              "    </g>\n",
              "</svg>\n",
              "  </button>\n",
              "\n",
              "<style>\n",
              "  .colab-df-quickchart {\n",
              "      --bg-color: #E8F0FE;\n",
              "      --fill-color: #1967D2;\n",
              "      --hover-bg-color: #E2EBFA;\n",
              "      --hover-fill-color: #174EA6;\n",
              "      --disabled-fill-color: #AAA;\n",
              "      --disabled-bg-color: #DDD;\n",
              "  }\n",
              "\n",
              "  [theme=dark] .colab-df-quickchart {\n",
              "      --bg-color: #3B4455;\n",
              "      --fill-color: #D2E3FC;\n",
              "      --hover-bg-color: #434B5C;\n",
              "      --hover-fill-color: #FFFFFF;\n",
              "      --disabled-bg-color: #3B4455;\n",
              "      --disabled-fill-color: #666;\n",
              "  }\n",
              "\n",
              "  .colab-df-quickchart {\n",
              "    background-color: var(--bg-color);\n",
              "    border: none;\n",
              "    border-radius: 50%;\n",
              "    cursor: pointer;\n",
              "    display: none;\n",
              "    fill: var(--fill-color);\n",
              "    height: 32px;\n",
              "    padding: 0;\n",
              "    width: 32px;\n",
              "  }\n",
              "\n",
              "  .colab-df-quickchart:hover {\n",
              "    background-color: var(--hover-bg-color);\n",
              "    box-shadow: 0 1px 2px rgba(60, 64, 67, 0.3), 0 1px 3px 1px rgba(60, 64, 67, 0.15);\n",
              "    fill: var(--button-hover-fill-color);\n",
              "  }\n",
              "\n",
              "  .colab-df-quickchart-complete:disabled,\n",
              "  .colab-df-quickchart-complete:disabled:hover {\n",
              "    background-color: var(--disabled-bg-color);\n",
              "    fill: var(--disabled-fill-color);\n",
              "    box-shadow: none;\n",
              "  }\n",
              "\n",
              "  .colab-df-spinner {\n",
              "    border: 2px solid var(--fill-color);\n",
              "    border-color: transparent;\n",
              "    border-bottom-color: var(--fill-color);\n",
              "    animation:\n",
              "      spin 1s steps(1) infinite;\n",
              "  }\n",
              "\n",
              "  @keyframes spin {\n",
              "    0% {\n",
              "      border-color: transparent;\n",
              "      border-bottom-color: var(--fill-color);\n",
              "      border-left-color: var(--fill-color);\n",
              "    }\n",
              "    20% {\n",
              "      border-color: transparent;\n",
              "      border-left-color: var(--fill-color);\n",
              "      border-top-color: var(--fill-color);\n",
              "    }\n",
              "    30% {\n",
              "      border-color: transparent;\n",
              "      border-left-color: var(--fill-color);\n",
              "      border-top-color: var(--fill-color);\n",
              "      border-right-color: var(--fill-color);\n",
              "    }\n",
              "    40% {\n",
              "      border-color: transparent;\n",
              "      border-right-color: var(--fill-color);\n",
              "      border-top-color: var(--fill-color);\n",
              "    }\n",
              "    60% {\n",
              "      border-color: transparent;\n",
              "      border-right-color: var(--fill-color);\n",
              "    }\n",
              "    80% {\n",
              "      border-color: transparent;\n",
              "      border-right-color: var(--fill-color);\n",
              "      border-bottom-color: var(--fill-color);\n",
              "    }\n",
              "    90% {\n",
              "      border-color: transparent;\n",
              "      border-bottom-color: var(--fill-color);\n",
              "    }\n",
              "  }\n",
              "</style>\n",
              "\n",
              "  <script>\n",
              "    async function quickchart(key) {\n",
              "      const quickchartButtonEl =\n",
              "        document.querySelector('#' + key + ' button');\n",
              "      quickchartButtonEl.disabled = true;  // To prevent multiple clicks.\n",
              "      quickchartButtonEl.classList.add('colab-df-spinner');\n",
              "      try {\n",
              "        const charts = await google.colab.kernel.invokeFunction(\n",
              "            'suggestCharts', [key], {});\n",
              "      } catch (error) {\n",
              "        console.error('Error during call to suggestCharts:', error);\n",
              "      }\n",
              "      quickchartButtonEl.classList.remove('colab-df-spinner');\n",
              "      quickchartButtonEl.classList.add('colab-df-quickchart-complete');\n",
              "    }\n",
              "    (() => {\n",
              "      let quickchartButtonEl =\n",
              "        document.querySelector('#df-d952f060-6159-4466-b8c8-f70da0328ded button');\n",
              "      quickchartButtonEl.style.display =\n",
              "        google.colab.kernel.accessAllowed ? 'block' : 'none';\n",
              "    })();\n",
              "  </script>\n",
              "</div>\n",
              "\n",
              "  <div id=\"id_c80ebc08-c472-4fd9-b2b3-27c135fe4aee\">\n",
              "    <style>\n",
              "      .colab-df-generate {\n",
              "        background-color: #E8F0FE;\n",
              "        border: none;\n",
              "        border-radius: 50%;\n",
              "        cursor: pointer;\n",
              "        display: none;\n",
              "        fill: #1967D2;\n",
              "        height: 32px;\n",
              "        padding: 0 0 0 0;\n",
              "        width: 32px;\n",
              "      }\n",
              "\n",
              "      .colab-df-generate:hover {\n",
              "        background-color: #E2EBFA;\n",
              "        box-shadow: 0px 1px 2px rgba(60, 64, 67, 0.3), 0px 1px 3px 1px rgba(60, 64, 67, 0.15);\n",
              "        fill: #174EA6;\n",
              "      }\n",
              "\n",
              "      [theme=dark] .colab-df-generate {\n",
              "        background-color: #3B4455;\n",
              "        fill: #D2E3FC;\n",
              "      }\n",
              "\n",
              "      [theme=dark] .colab-df-generate:hover {\n",
              "        background-color: #434B5C;\n",
              "        box-shadow: 0px 1px 3px 1px rgba(0, 0, 0, 0.15);\n",
              "        filter: drop-shadow(0px 1px 2px rgba(0, 0, 0, 0.3));\n",
              "        fill: #FFFFFF;\n",
              "      }\n",
              "    </style>\n",
              "    <button class=\"colab-df-generate\" onclick=\"generateWithVariable('datos_titanic')\"\n",
              "            title=\"Generate code using this dataframe.\"\n",
              "            style=\"display:none;\">\n",
              "\n",
              "  <svg xmlns=\"http://www.w3.org/2000/svg\" height=\"24px\"viewBox=\"0 0 24 24\"\n",
              "       width=\"24px\">\n",
              "    <path d=\"M7,19H8.4L18.45,9,17,7.55,7,17.6ZM5,21V16.75L18.45,3.32a2,2,0,0,1,2.83,0l1.4,1.43a1.91,1.91,0,0,1,.58,1.4,1.91,1.91,0,0,1-.58,1.4L9.25,21ZM18.45,9,17,7.55Zm-12,3A5.31,5.31,0,0,0,4.9,8.1,5.31,5.31,0,0,0,1,6.5,5.31,5.31,0,0,0,4.9,4.9,5.31,5.31,0,0,0,6.5,1,5.31,5.31,0,0,0,8.1,4.9,5.31,5.31,0,0,0,12,6.5,5.46,5.46,0,0,0,6.5,12Z\"/>\n",
              "  </svg>\n",
              "    </button>\n",
              "    <script>\n",
              "      (() => {\n",
              "      const buttonEl =\n",
              "        document.querySelector('#id_c80ebc08-c472-4fd9-b2b3-27c135fe4aee button.colab-df-generate');\n",
              "      buttonEl.style.display =\n",
              "        google.colab.kernel.accessAllowed ? 'block' : 'none';\n",
              "\n",
              "      buttonEl.onclick = () => {\n",
              "        google.colab.notebook.generateWithVariable('datos_titanic');\n",
              "      }\n",
              "      })();\n",
              "    </script>\n",
              "  </div>\n",
              "\n",
              "    </div>\n",
              "  </div>\n"
            ],
            "application/vnd.google.colaboratory.intrinsic+json": {
              "type": "dataframe",
              "variable_name": "datos_titanic",
              "summary": "{\n  \"name\": \"datos_titanic\",\n  \"rows\": 1043,\n  \"fields\": [\n    {\n      \"column\": \"PassengerId\",\n      \"properties\": {\n        \"dtype\": \"number\",\n        \"std\": 377,\n        \"min\": 1,\n        \"max\": 1307,\n        \"num_unique_values\": 1043,\n        \"samples\": [\n          1297,\n          350,\n          679\n        ],\n        \"semantic_type\": \"\",\n        \"description\": \"\"\n      }\n    },\n    {\n      \"column\": \"Survived\",\n      \"properties\": {\n        \"dtype\": \"category\",\n        \"num_unique_values\": 2,\n        \"samples\": [\n          1,\n          0\n        ],\n        \"semantic_type\": \"\",\n        \"description\": \"\"\n      }\n    },\n    {\n      \"column\": \"Pclass\",\n      \"properties\": {\n        \"dtype\": \"category\",\n        \"num_unique_values\": 3,\n        \"samples\": [\n          3,\n          1\n        ],\n        \"semantic_type\": \"\",\n        \"description\": \"\"\n      }\n    },\n    {\n      \"column\": \"Sex\",\n      \"properties\": {\n        \"dtype\": \"category\",\n        \"num_unique_values\": 2,\n        \"samples\": [\n          \"female\",\n          \"male\"\n        ],\n        \"semantic_type\": \"\",\n        \"description\": \"\"\n      }\n    },\n    {\n      \"column\": \"Age\",\n      \"properties\": {\n        \"dtype\": \"number\",\n        \"std\": 14.366254455726265,\n        \"min\": 0.17,\n        \"max\": 80.0,\n        \"num_unique_values\": 97,\n        \"samples\": [\n          45.5,\n          23.0\n        ],\n        \"semantic_type\": \"\",\n        \"description\": \"\"\n      }\n    },\n    {\n      \"column\": \"SibSp\",\n      \"properties\": {\n        \"dtype\": \"number\",\n        \"std\": 0,\n        \"min\": 0,\n        \"max\": 8,\n        \"num_unique_values\": 7,\n        \"samples\": [\n          1,\n          0\n        ],\n        \"semantic_type\": \"\",\n        \"description\": \"\"\n      }\n    },\n    {\n      \"column\": \"Parch\",\n      \"properties\": {\n        \"dtype\": \"number\",\n        \"std\": 0,\n        \"min\": 0,\n        \"max\": 6,\n        \"num_unique_values\": 7,\n        \"samples\": [\n          0,\n          1\n        ],\n        \"semantic_type\": \"\",\n        \"description\": \"\"\n      }\n    },\n    {\n      \"column\": \"Fare\",\n      \"properties\": {\n        \"dtype\": \"number\",\n        \"std\": 55.75364770130819,\n        \"min\": 0.0,\n        \"max\": 512.3292,\n        \"num_unique_values\": 255,\n        \"samples\": [\n          7.0542,\n          21.075\n        ],\n        \"semantic_type\": \"\",\n        \"description\": \"\"\n      }\n    },\n    {\n      \"column\": \"Embarked\",\n      \"properties\": {\n        \"dtype\": \"category\",\n        \"num_unique_values\": 3,\n        \"samples\": [\n          \"S\",\n          \"C\"\n        ],\n        \"semantic_type\": \"\",\n        \"description\": \"\"\n      }\n    }\n  ]\n}"
            }
          },
          "metadata": {}
        }
      ]
    },
    {
      "cell_type": "markdown",
      "source": [
        "##Ejercicio 4.2\n",
        "Realice un análisis exploratorio (estadísticas básicas) que incluya: el resumen numérico(media, desviación estándar, etc.), los valores atípicos, la correlación entre las variables, el poder predictivo de las variables predictoras. Interprete los resultados."
      ],
      "metadata": {
        "id": "nRyLoO3K1Gd8"
      }
    },
    {
      "cell_type": "code",
      "source": [
        "print(datos_titanic.describe())"
      ],
      "metadata": {
        "colab": {
          "base_uri": "https://localhost:8080/"
        },
        "id": "1NU9CJNk1Ip0",
        "outputId": "104adb6b-198d-4931-bead-99be51c8a419"
      },
      "execution_count": 21,
      "outputs": [
        {
          "output_type": "stream",
          "name": "stdout",
          "text": [
            "               Age        SibSp        Parch         Fare\n",
            "count  1043.000000  1043.000000  1043.000000  1043.000000\n",
            "mean     29.813202     0.504314     0.421860    36.603024\n",
            "std      14.366254     0.913080     0.840655    55.753648\n",
            "min       0.170000     0.000000     0.000000     0.000000\n",
            "25%      21.000000     0.000000     0.000000     8.050000\n",
            "50%      28.000000     0.000000     0.000000    15.750000\n",
            "75%      39.000000     1.000000     1.000000    35.077100\n",
            "max      80.000000     8.000000     6.000000   512.329200\n"
          ]
        }
      ]
    },
    {
      "cell_type": "code",
      "source": [
        "#datos atipicos\n",
        "#boxplot para visualizar outliers\n",
        "plt.figure(figsize=(8, 6))\n",
        "sns.boxplot(y=\"Age\", data=datos_titanic,\n",
        "            boxprops=dict(facecolor=\"#c8b9f7\", color=\"#a58aff\"),\n",
        "            flierprops=dict(markerfacecolor=\"#c8b9f7\", marker='o', markersize=8, color=\"#a58aff\"))\n",
        "\n",
        "# Personalizar los títulos y etiquetas\n",
        "plt.title(\"Boxplot de Edad\", fontsize=14, fontweight='bold', ha='center')\n",
        "plt.xlabel(\"\")\n",
        "plt.ylabel(\"Edad\", fontsize=12)\n",
        "\n",
        "# Mostrar el gráfico\n",
        "plt.show()"
      ],
      "metadata": {
        "colab": {
          "base_uri": "https://localhost:8080/",
          "height": 582
        },
        "id": "hL25Nqjh1RHu",
        "outputId": "8a2bc402-58aa-435e-8674-87646709aa86"
      },
      "execution_count": 27,
      "outputs": [
        {
          "output_type": "stream",
          "name": "stderr",
          "text": [
            "/usr/local/lib/python3.11/dist-packages/seaborn/categorical.py:700: UserWarning: Setting the 'color' property will override the edgecolor or facecolor properties.\n",
            "  artists = ax.bxp(**boxplot_kws)\n"
          ]
        },
        {
          "output_type": "display_data",
          "data": {
            "text/plain": [
              "<Figure size 800x600 with 1 Axes>"
            ],
            "image/png": "[encoded data removed]"
          },
          "metadata": {}
        }
      ]
    },
    {
      "cell_type": "code",
      "source": [
        "#datos atipicos\n",
        "#boxplot para visualizar outliers\n",
        "plt.figure(figsize=(8, 6))\n",
        "sns.boxplot(y=\"Fare\", data=datos_titanic,\n",
        "            boxprops=dict(facecolor=\"#fdd3f4\", color=\"#fa68d8\"),\n",
        "            flierprops=dict(markerfacecolor=\"#fdd3f4\", marker='o', markersize=8, color=\"#fa68d8\"))\n",
        "\n",
        "# Personalizar los títulos y etiquetas\n",
        "plt.title(\"Boxplot de Tarifa\", fontsize=14, fontweight='bold', ha='center')\n",
        "plt.xlabel(\"\")\n",
        "plt.ylabel(\"Tarifa\", fontsize=12)\n",
        "\n",
        "# Mostrar el gráfico\n",
        "plt.show()"
      ],
      "metadata": {
        "colab": {
          "base_uri": "https://localhost:8080/",
          "height": 582
        },
        "id": "Linc6C-n2fHb",
        "outputId": "ea60f1b3-854d-4931-f069-be9b206266a3"
      },
      "execution_count": 28,
      "outputs": [
        {
          "output_type": "stream",
          "name": "stderr",
          "text": [
            "/usr/local/lib/python3.11/dist-packages/seaborn/categorical.py:700: UserWarning: Setting the 'color' property will override the edgecolor or facecolor properties.\n",
            "  artists = ax.bxp(**boxplot_kws)\n"
          ]
        },
        {
          "output_type": "display_data",
          "data": {
            "text/plain": [
              "<Figure size 800x600 with 1 Axes>"
            ],
            "image/png": "[encoded data removed]"
          },
          "metadata": {}
        }
      ]
    },
    {
      "cell_type": "code",
      "source": [
        "#grafico correlacion\n",
        "# Include only numerical features for correlation calculation\n",
        "numeric_data = datos_titanic.select_dtypes(include=np.number)\n",
        "plt.figure(figsize=(8, 6))\n",
        "sns.heatmap(numeric_data.corr(), annot=True, cmap='PiYG', fmt=\".2f\")"
      ],
      "metadata": {
        "colab": {
          "base_uri": "https://localhost:8080/",
          "height": 545
        },
        "id": "aGEKUDK93AHR",
        "outputId": "e4753af4-b8a7-474f-dfd5-ab8ad10c98ea"
      },
      "execution_count": 35,
      "outputs": [
        {
          "output_type": "execute_result",
          "data": {
            "text/plain": [
              "<Axes: >"
            ]
          },
          "metadata": {},
          "execution_count": 35
        },
        {
          "output_type": "display_data",
          "data": {
            "text/plain": [
              "<Figure size 800x600 with 2 Axes>"
            ],
            "image/png": "[encoded data removed]"
          },
          "metadata": {}
        }
      ]
    },
    {
      "cell_type": "markdown",
      "source": [
        "- No hay correlación fuerte entre edad y tarifa.\n",
        "- Hay correlación positiva entre SibSp y Partch lo que refiere a familiares a bordo, si viajaban con hermanos o conyuges, también había más posibilidad de que también viajaran con hijos o padres.\n",
        "- La edad tiene una relación negativa débil con el número de familiares a bordo, sugiriendo que los pasajeros más jóvenes tienden a viajar con más familiares.\n",
        "- Las tarifas tienen una relación positiva débil con todas las variables, indicando una ligera tendencia a ser más altas para pasajeros de mayor edad o con más familiares."
      ],
      "metadata": {
        "id": "dpCzFgXj4nM1"
      }
    },
    {
      "cell_type": "code",
      "source": [
        "#Graficar distribucion de la variable a predecir\n",
        "sns.countplot(x='Survived', data=datos_titanic, palette=\"Set2\")\n",
        "plt.show()"
      ],
      "metadata": {
        "colab": {
          "base_uri": "https://localhost:8080/",
          "height": 556
        },
        "id": "xtJ-frg75dDZ",
        "outputId": "c66f5bd2-6e3b-41ff-9502-9e9c2d4d1861"
      },
      "execution_count": 36,
      "outputs": [
        {
          "output_type": "stream",
          "name": "stderr",
          "text": [
            "<ipython-input-36-e8a3f899135c>:2: FutureWarning: \n",
            "\n",
            "Passing `palette` without assigning `hue` is deprecated and will be removed in v0.14.0. Assign the `x` variable to `hue` and set `legend=False` for the same effect.\n",
            "\n",
            "  sns.countplot(x='Survived', data=datos_titanic, palette=\"Set2\")\n"
          ]
        },
        {
          "output_type": "display_data",
          "data": {
            "text/plain": [
              "<Figure size 640x480 with 1 Axes>"
            ],
            "image/png": "[encoded data removed]"
          },
          "metadata": {}
        }
      ]
    },
    {
      "cell_type": "markdown",
      "source": [
        "##Ejercicio 4.4\n",
        "Use el método de K vecinos más cercanos, con los parámetros que logren el mejor resultado, para generar un modelo predictivo con la tabla titanicV2020.csv usando el 80 % de los datos para la tabla aprendizaje y un 20 % para la tabla testing, luego calcule para los datos de testing la matriz de confusión, la precisión global y la precisión para cada una de las dos categorías. ¿Son buenos los resultados?\n",
        "\n"
      ],
      "metadata": {
        "id": "_IpJFxxf6Fog"
      }
    },
    {
      "cell_type": "code",
      "source": [
        "train, test = train_test_split(datos_titanic, test_size=0.2, stratify=datos_titanic['Survived'], random_state=42)\n",
        "\n",
        "print(train.shape)\n",
        "print(test.shape)"
      ],
      "metadata": {
        "colab": {
          "base_uri": "https://localhost:8080/"
        },
        "id": "5PXEpHjh6k7P",
        "outputId": "e499dc03-1f5e-434f-991b-16f772b0eafd"
      },
      "execution_count": 38,
      "outputs": [
        {
          "output_type": "stream",
          "name": "stdout",
          "text": [
            "(834, 8)\n",
            "(209, 8)\n"
          ]
        }
      ]
    },
    {
      "cell_type": "code",
      "source": [
        "X_train = train.drop(columns=['Survived']) #variables predictoras\n",
        "y_train = train['Survived'] #variable objetivo\n",
        "\n",
        "X_test = test.drop(columns=['Survived'])\n",
        "y_test = test['Survived']\n",
        "\n",
        "X_train = pd.get_dummies(X_train, columns=['Sex', 'Embarked'], drop_first=True)\n",
        "X_test = pd.get_dummies(X_test, columns=['Sex', 'Embarked'], drop_first=True)\n",
        "\n",
        "\n",
        "#crear instancia del clasificador\n",
        "knn_model = KNeighborsClassifier(\n",
        "    n_neighbors=10,       # El valor de n_neighbors es 11\n",
        "    weights='distance',   # El tipo de ponderación es 'distance'\n",
        "    metric='manhattan',   # La métrica de distancia es 'manhattan'\n",
        "    algorithm='auto'      # El algoritmo para la búsqueda de vecinos es 'auto'\n",
        ")\n",
        "\n",
        "#entrenar el modelo\n",
        "knn_model.fit(X_train, y_train)\n",
        "\n",
        "\n",
        "#predicion y evaluacion\n",
        "y_pred = knn_model.predict(X_test)\n",
        "accuracy = accuracy_score(y_test, y_pred)\n",
        "print(f'Accuracy: {accuracy}')\n",
        "conf_matrix = confusion_matrix(y_test, y_pred)\n",
        "#precisión por categoria\n",
        "print(classification_report(y_test, y_pred))"
      ],
      "metadata": {
        "colab": {
          "base_uri": "https://localhost:8080/"
        },
        "id": "PWimFJzK6OPJ",
        "outputId": "6148a964-3343-439e-80b6-6a759a313f42"
      },
      "execution_count": 46,
      "outputs": [
        {
          "output_type": "stream",
          "name": "stdout",
          "text": [
            "Accuracy: 0.6698564593301436\n",
            "              precision    recall  f1-score   support\n",
            "\n",
            "           0       0.73      0.72      0.73       126\n",
            "           1       0.58      0.59      0.59        83\n",
            "\n",
            "    accuracy                           0.67       209\n",
            "   macro avg       0.66      0.66      0.66       209\n",
            "weighted avg       0.67      0.67      0.67       209\n",
            "\n"
          ]
        }
      ]
    },
    {
      "cell_type": "code",
      "source": [
        "# Visualización de la Matriz de Confusión\n",
        "sns.heatmap(conf_matrix, annot=True, fmt='d', cmap='Blues', xticklabels=['Predicted 0', 'Predicted 1'], yticklabels=['Actual 0', 'Actual 1'])\n",
        "plt.ylabel('Real')\n",
        "plt.xlabel('Predicted')\n",
        "plt.title('Confusion Matrix')\n",
        "plt.show()"
      ],
      "metadata": {
        "colab": {
          "base_uri": "https://localhost:8080/",
          "height": 472
        },
        "id": "oGDznPMq9G0M",
        "outputId": "7d437450-46f6-4349-f95a-709bf40203bf"
      },
      "execution_count": 48,
      "outputs": [
        {
          "output_type": "display_data",
          "data": {
            "text/plain": [
              "<Figure size 640x480 with 2 Axes>"
            ],
            "image/png": "[encoded data removed]"
          },
          "metadata": {}
        }
      ]
    },
    {
      "cell_type": "markdown",
      "source": [
        "- Accuracy (Exactitud):\n",
        "\n",
        "0.6699 (aproximadamente 67%)\n",
        "\n",
        "Es la proporción de predicciones correctas (tanto para clase 0 como para clase 1) con respecto al total de predicciones. En este caso, el modelo acertó el 67% de las veces.\n",
        "\n",
        "- Precision (Precisión):\n",
        "\n",
        "Para la clase 0: 0.73 (73%)\n",
        "De todas las veces que el modelo predijo que la clase era 0, el 73% de ellas fueron correctas.\n",
        "Para la clase 1: 0.58 (58%)\n",
        "De todas las veces que el modelo predijo que la clase era 1, el 58% de ellas fueron correctas.\n",
        "\n",
        "- Recall (Recuperación o Sensibilidad):\n",
        "\n",
        "Para la clase 0: 0.72 (72%)\n",
        "De todas las veces que la clase verdadera fue 0, el modelo identificó correctamente el 72%.\n",
        "Para la clase 1: 0.59 (59%)\n",
        "De todas las veces que la clase verdadera fue 1, el modelo identificó correctamente el 59%.\n",
        "\n",
        "- F1-Score:\n",
        "\n",
        "Para la clase 0: 0.73 (73%)\n",
        "Es una combinación de precisión y recall. El F1-score de 0.73 para la clase 0 indica un buen equilibrio entre precisión y recall.\n",
        "Para la clase 1: 0.59 (59%)\n",
        "El F1-score de 0.59 para la clase 1 es más bajo, lo que indica que el modelo tiene un desempeño más bajo en esta clase.\n",
        "\n",
        "- Support:\n",
        "\n",
        "126 instancias de la clase 0 (por ejemplo, no sobrevivientes).\n",
        "83 instancias de la clase 1 (por ejemplo, sobrevivientes).\n",
        "El número de instancias de cada clase en el conjunto de datos.\n",
        "\n",
        "Promedios:\n",
        "\n",
        "- Macro Average:\n",
        "Promedio de todas las métricas (precisión, recall y F1) sin tener en cuenta el tamaño de las clases. Aquí, el modelo tiene un promedio de 0.66 en precisión, recall y F1.\n",
        "- Weighted Average:\n",
        "Promedio ponderado, tomando en cuenta el número de instancias de cada clase. Aquí, el modelo tiene un promedio de 0.67 en precisión, recall y F1.\n",
        "\n",
        "Resumen:\n",
        "\n",
        "El modelo tiene un buen desempeño en la clase 0 (con un F1-score de 0.73) pero un desempeño más bajo en la clase 1 (con un F1-score de 0.59).\n",
        "La exactitud total es de aproximadamente 67%, lo que significa que el modelo hace predicciones correctas el 67% del tiempo."
      ],
      "metadata": {
        "id": "lLMbDifP8QMo"
      }
    },
    {
      "cell_type": "code",
      "source": [
        "#Definir rango de hiperparametros\n",
        "param_grid_knn = {\n",
        "    'n_neighbors': [3, 5, 7, 9, 10, 11],  # Número de vecinos\n",
        "    'weights': ['uniform', 'distance'],  # Peso de los vecinos (uniforme o basado en la distancia)\n",
        "    'metric': ['euclidean', 'manhattan', 'chebyshev'],  # Métricas de distancia\n",
        "    'algorithm': ['auto', 'ball_tree', 'kd_tree', 'brute']  # Algoritmo para la búsqueda de vecinos\n",
        "}\n",
        "\n",
        "# Realizar la búsqueda de hiperparámetros utilizando GridSearchCV\n",
        "grid_search_knn = GridSearchCV(\n",
        "    KNeighborsClassifier(),\n",
        "    param_grid_knn,\n",
        "    cv=5,  # Validación cruzada con 5 pliegues\n",
        "    scoring='accuracy'  # Métrica de evaluación (precisión)\n",
        ")\n",
        "\n",
        "# Ajustar el modelo con los datos de entrenamiento\n",
        "grid_search_knn.fit(X_train, y_train)\n",
        "\n",
        "# Mejor modelo\n",
        "best_knn = grid_search_knn.best_estimator_\n",
        "\n",
        "# Mostrar los mejores parámetros encontrados\n",
        "print(\"Mejores parámetros para KNN:\", grid_search_knn.best_params_)"
      ],
      "metadata": {
        "colab": {
          "base_uri": "https://localhost:8080/"
        },
        "id": "82qBCuyF7e6u",
        "outputId": "0e15d2ef-bb07-4d8f-fe5d-e69a8e823197"
      },
      "execution_count": 41,
      "outputs": [
        {
          "output_type": "stream",
          "name": "stdout",
          "text": [
            "Mejores parámetros para KNN: {'algorithm': 'auto', 'metric': 'manhattan', 'n_neighbors': 10, 'weights': 'distance'}\n"
          ]
        }
      ]
    },
    {
      "cell_type": "markdown",
      "source": [
        "#Ejercicio 5\n",
        "En este ejercicio vamos a predecir números escritos a mano (Hand Written Digit Recognition), la tabla de de datos está en el archivo ZipData 2020.csv. Los datos de este ejemplo vienen de los códigos postales escritos a mano en sobres del correo postal de EE.UU. Las imágenes son de 16 × 16 en escala de grises, cada píxel va de intensidad de −1 a 1 (de blanco a negro). Las imágenes se han normalizado para tener aproximadamente el mismo tamaño y orientación. La tarea consiste en predecir, a partir de la matriz de 16 × 16 de intensidades de cada píxel, la identidad de cada imagen (0, 1, . . . , 9) de forma rápida y precisa. Si es lo suficientemente precisa, el algoritmo resultante se utiliza como parte de un procedimiento de selección automática para sobres. Este es un problema de clasificación para el cual la tasa de error debe mantenerse muy baja para evitar la mala dirección de correo. La columna 1 tiene la variable a predecir Número codificada como sigue: 0=‘cero’; 1=‘uno’; 2=‘dos’; 3=‘tres’; 4=‘cuatro’; 5=‘cinco’;6=‘seis’; 7=‘siete’; 8=‘ocho’ y 9=‘nueve’, las demás columnas son las variables predictivas, además cada fila de la tabla representa un bloque 16 × 16 por lo que la matriz tiene 256 variables predictivas.\n",
        "\n",
        "##Ejercicio 5.1\n",
        "Cargue la tabla de datos ZipData_2020.csv en R."
      ],
      "metadata": {
        "id": "THHqT79I-DEG"
      }
    },
    {
      "cell_type": "code",
      "source": [
        "datos_numeros = pd.read_csv('ZipData_2020.csv', header=0, sep = \";\", decimal =\".\")\n",
        "print(datos_numeros.dtypes)"
      ],
      "metadata": {
        "colab": {
          "base_uri": "https://localhost:8080/"
        },
        "id": "4ehZ1rp4-IMv",
        "outputId": "b7c0c9ca-64b4-42ac-89a1-5b362e5228fa"
      },
      "execution_count": 49,
      "outputs": [
        {
          "output_type": "stream",
          "name": "stdout",
          "text": [
            "Numero     object\n",
            "V2        float64\n",
            "V3        float64\n",
            "V4        float64\n",
            "V5        float64\n",
            "           ...   \n",
            "V253      float64\n",
            "V254      float64\n",
            "V255      float64\n",
            "V256      float64\n",
            "V257      float64\n",
            "Length: 257, dtype: object\n"
          ]
        }
      ]
    },
    {
      "cell_type": "markdown",
      "source": [
        "##Ejercicio 5.2\n",
        "¿Es este problema equilibrado o desequilibrado? Justifique su respuesta."
      ],
      "metadata": {
        "id": "G9XJlS2U-X54"
      }
    },
    {
      "cell_type": "code",
      "source": [
        "sns.countplot(x='Numero', data = datos_numeros, palette=\"Spectral\")\n",
        "plt.show()"
      ],
      "metadata": {
        "colab": {
          "base_uri": "https://localhost:8080/",
          "height": 556
        },
        "id": "FP2Ha6m6-Za1",
        "outputId": "91476589-5a15-4227-8c3f-0082cdc3a2c5"
      },
      "execution_count": 57,
      "outputs": [
        {
          "output_type": "stream",
          "name": "stderr",
          "text": [
            "<ipython-input-57-0048fd4b4268>:1: FutureWarning: \n",
            "\n",
            "Passing `palette` without assigning `hue` is deprecated and will be removed in v0.14.0. Assign the `x` variable to `hue` and set `legend=False` for the same effect.\n",
            "\n",
            "  sns.countplot(x='Numero', data = datos_numeros, palette=\"Spectral\")\n"
          ]
        },
        {
          "output_type": "display_data",
          "data": {
            "text/plain": [
              "<Figure size 640x480 with 1 Axes>"
            ],
            "image/png": "[encoded data removed]"
          },
          "metadata": {}
        }
      ]
    },
    {
      "cell_type": "markdown",
      "source": [
        "Este problema es desequilibrado ya que hay una distribución desigual en la cantidad de individuos entre las diferentes categorías. Algunas categorías tienen muchos más individuos que otras como las categorías cero y uno que tienen una cantidad significativamente mayor de individuos (alrededor de 1500 y 1250 respectivamente) en comparación con otras como cinco y ocho que tienen menos de la mitad de individuos."
      ],
      "metadata": {
        "id": "mQeeKvGa_oTE"
      }
    },
    {
      "cell_type": "markdown",
      "source": [
        "##Ejercicio 5.3\n",
        "Use el método de K vecinos más cercanos para generar un modelo predictivo para la tabla ZipData 2020.csv usando el 80 % de los datos para la tabla aprendizaje y un 20 % para la tabla testing, luego calcule para los datos de testing la matriz de confusión, la precisión global y la precisión para cada una de las categorías. ¿Son buenos los resultados?"
      ],
      "metadata": {
        "id": "K43CLKkS_tbZ"
      }
    },
    {
      "cell_type": "code",
      "source": [
        "train, test = train_test_split(datos_numeros, test_size=0.2, stratify=datos_numeros['Numero'], random_state=42)\n",
        "\n",
        "print(train.shape)\n",
        "print(test.shape)"
      ],
      "metadata": {
        "colab": {
          "base_uri": "https://localhost:8080/"
        },
        "id": "A-FvJgQM_7H8",
        "outputId": "f7584aaa-9cac-4fd7-a1cc-243bc7b93248"
      },
      "execution_count": 58,
      "outputs": [
        {
          "output_type": "stream",
          "name": "stdout",
          "text": [
            "(7438, 257)\n",
            "(1860, 257)\n"
          ]
        }
      ]
    },
    {
      "cell_type": "code",
      "source": [
        "X_train_numero = train.drop(columns=['Numero']) #variables predictoras\n",
        "y_train_numero = train['Numero'] #variable objetivo\n",
        "\n",
        "X_test_numero = test.drop(columns=['Numero'])\n",
        "y_test_numero = test['Numero']\n",
        "\n",
        "#crear y entrenar modelo\n",
        "knn_model_numero = KNeighborsClassifier(\n",
        "    n_neighbors=3,       # El valor de n_neighbors es 11\n",
        "    weights='distance',   # El tipo de ponderación es 'distance'\n",
        "    metric='euclidean',   # La métrica de distancia es 'manhattan'\n",
        "    algorithm='auto'      # El algoritmo para la búsqueda de vecinos es 'auto'\n",
        ")\n",
        "\n",
        "#entrenar el modelo\n",
        "knn_model.fit(X_train_numero, y_train_numero)\n",
        "\n",
        "\n",
        "#predicion y evaluacion\n",
        "y_pred = knn_model.predict(X_test_numero)\n",
        "accuracy = accuracy_score(y_test_numero, y_pred)\n",
        "print(f'Accuracy: {accuracy}')\n",
        "conf_matrix = confusion_matrix(y_test_numero, y_pred)\n",
        "#precisión por categoria\n",
        "print(classification_report(y_test_numero, y_pred))"
      ],
      "metadata": {
        "colab": {
          "base_uri": "https://localhost:8080/"
        },
        "id": "etmG3f_WAJB_",
        "outputId": "d9a8cfe7-8db8-4f7e-c5b3-2543ae192e07"
      },
      "execution_count": 68,
      "outputs": [
        {
          "output_type": "stream",
          "name": "stdout",
          "text": [
            "Accuracy: 0.9543010752688172\n",
            "              precision    recall  f1-score   support\n",
            "\n",
            "        cero       0.93      0.99      0.96       311\n",
            "       cinco       0.96      0.94      0.95       143\n",
            "      cuatro       0.96      0.89      0.92       170\n",
            "         dos       0.98      0.88      0.93       186\n",
            "       nueve       0.93      0.97      0.95       164\n",
            "        ocho       0.99      0.93      0.96       142\n",
            "        seis       0.95      0.95      0.95       167\n",
            "       siete       0.93      0.98      0.96       158\n",
            "        tres       0.98      0.97      0.97       165\n",
            "         uno       0.96      1.00      0.98       254\n",
            "\n",
            "    accuracy                           0.95      1860\n",
            "   macro avg       0.96      0.95      0.95      1860\n",
            "weighted avg       0.96      0.95      0.95      1860\n",
            "\n"
          ]
        }
      ]
    },
    {
      "cell_type": "code",
      "source": [
        "#Definir rango de hiperparametros\n",
        "param_grid_knn = {\n",
        "    'n_neighbors': [3, 5, 7, 9, 10, 11],  # Número de vecinos\n",
        "    'weights': ['uniform', 'distance'],  # Peso de los vecinos (uniforme o basado en la distancia)\n",
        "    'metric': ['euclidean', 'manhattan', 'chebyshev'],  # Métricas de distancia\n",
        "    'algorithm': ['auto', 'ball_tree', 'kd_tree', 'brute']  # Algoritmo para la búsqueda de vecinos\n",
        "}\n",
        "\n",
        "# Realizar la búsqueda de hiperparámetros utilizando GridSearchCV\n",
        "grid_search_knn = GridSearchCV(\n",
        "    KNeighborsClassifier(),\n",
        "    param_grid_knn,\n",
        "    cv=2,  # Validación cruzada con 5 pliegues\n",
        "    scoring='accuracy'  # Métrica de evaluación (precisión)\n",
        ")\n",
        "\n",
        "# Ajustar el modelo con los datos de entrenamiento\n",
        "grid_search_knn.fit(X_train_numero, y_train_numero)\n",
        "\n",
        "# Mejor modelo\n",
        "best_knn = grid_search_knn.best_estimator_\n",
        "\n",
        "# Mostrar los mejores parámetros encontrados\n",
        "print(\"Mejores parámetros para KNN:\", grid_search_knn.best_params_)"
      ],
      "metadata": {
        "colab": {
          "base_uri": "https://localhost:8080/"
        },
        "id": "VUm3UUl3COkD",
        "outputId": "a27cdc47-e3bd-46bf-9cbe-90ac9ebbaaee"
      },
      "execution_count": 67,
      "outputs": [
        {
          "output_type": "stream",
          "name": "stdout",
          "text": [
            "Mejores parámetros para KNN: {'algorithm': 'auto', 'metric': 'euclidean', 'n_neighbors': 3, 'weights': 'distance'}\n"
          ]
        }
      ]
    }
  ]
}