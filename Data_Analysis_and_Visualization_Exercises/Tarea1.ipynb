{
  "nbformat": 4,
  "nbformat_minor": 0,
  "metadata": {
    "colab": {
      "provenance": []
    },
    "kernelspec": {
      "name": "python3",
      "display_name": "Python 3"
    },
    "language_info": {
      "name": "python"
    }
  },
  "cells": [
    {
      "cell_type": "markdown",
      "source": [
        "## Ejercicio 2"
      ],
      "metadata": {
        "id": "val8ycKZzmjZ"
      }
    },
    {
      "cell_type": "markdown",
      "source": [
        "“x” y “y” como vectores"
      ],
      "metadata": {
        "id": "qfZ9044fzvQM"
      }
    },
    {
      "cell_type": "code",
      "execution_count": 30,
      "metadata": {
        "id": "-rzWEU2ww5wY"
      },
      "outputs": [],
      "source": [
        "import numpy as np\n",
        "#seaborn se utiliza junto con matlplotlob\n",
        "import matplotlib.pyplot as plt\n",
        "import seaborn as sns\n",
        "import pandas as pd"
      ]
    },
    {
      "cell_type": "code",
      "source": [
        "x = np.array([3, -5, 31, -1, -9, 10, 0, 18])\n",
        "y = np.array([1, 1, -3, 1, -99, -10, 10, -7])\n",
        "print(x)\n",
        "print(y)"
      ],
      "metadata": {
        "colab": {
          "base_uri": "https://localhost:8080/"
        },
        "id": "_U8MVq_a1f8D",
        "outputId": "299f81c7-5bcf-48c0-d393-5ee012e4c0cf"
      },
      "execution_count": 31,
      "outputs": [
        {
          "output_type": "stream",
          "name": "stdout",
          "text": [
            "[ 3 -5 31 -1 -9 10  0 18]\n",
            "[  1   1  -3   1 -99 -10  10  -7]\n"
          ]
        }
      ]
    },
    {
      "cell_type": "markdown",
      "source": [
        "Media, la varianza, la raíz cuadrada y la desviación estándar de y."
      ],
      "metadata": {
        "id": "HjVtfzYc1ynu"
      }
    },
    {
      "cell_type": "code",
      "source": [
        "media = np.mean(y)\n",
        "print(\"Media:\", media)\n",
        "\n",
        "varianza = np.var(y)\n",
        "print(\"Varianza:\", varianza)\n",
        "\n",
        "raiz = np.sqrt(y)\n",
        "print(\"Raíz cuadrada:\", raiz)\n",
        "\n",
        "desviacion = np.std(y)\n",
        "print(\"Desviación estandar:\", desviacion)\n",
        "\n",
        "y_corregido = np.where(y < 0, np.nan, y)\n",
        "desviacion_estandar = np.nanstd(y_corregido)\n",
        "print(\"Desviación estándar (sin NaN):\", desviacion_estandar)\n"
      ],
      "metadata": {
        "colab": {
          "base_uri": "https://localhost:8080/"
        },
        "id": "vYoM82_v11_3",
        "outputId": "dcb2133b-5ec9-425f-b2fe-6ae24f736e9b"
      },
      "execution_count": 32,
      "outputs": [
        {
          "output_type": "stream",
          "name": "stdout",
          "text": [
            "Media: -13.25\n",
            "Varianza: 1082.1875\n",
            "Raíz cuadrada: [1.         1.                nan 1.                nan        nan\n",
            " 3.16227766        nan]\n",
            "Desviación estandar: 32.89661836724255\n",
            "Desviación estándar (sin NaN): 3.897114317029974\n"
          ]
        },
        {
          "output_type": "stream",
          "name": "stderr",
          "text": [
            "<ipython-input-32-49d42f269dd3>:7: RuntimeWarning: invalid value encountered in sqrt\n",
            "  raiz = np.sqrt(y)\n"
          ]
        }
      ]
    },
    {
      "cell_type": "markdown",
      "source": [
        "Correlación entre x y y."
      ],
      "metadata": {
        "id": "Tr_rEYwM3W4a"
      }
    },
    {
      "cell_type": "code",
      "source": [
        "correlacion = np.corrcoef(x, y)\n",
        "print(\"Correlación:\", correlacion)"
      ],
      "metadata": {
        "colab": {
          "base_uri": "https://localhost:8080/"
        },
        "id": "RjSGJMEV3YIn",
        "outputId": "8dcdff2f-00b9-4165-9963-89a3abceec59"
      },
      "execution_count": 33,
      "outputs": [
        {
          "output_type": "stream",
          "name": "stdout",
          "text": [
            "Correlación: [[1.         0.36596793]\n",
            " [0.36596793 1.        ]]\n"
          ]
        }
      ]
    },
    {
      "cell_type": "markdown",
      "source": [
        "Extraer las entradas 2 a la 7 de x."
      ],
      "metadata": {
        "id": "Q9789j4r3rGA"
      }
    },
    {
      "cell_type": "code",
      "source": [
        "entradas_2_a_7 = x[1:7]\n",
        "print(\"Entradas 2 a 7 de x:\", entradas_2_a_7)"
      ],
      "metadata": {
        "colab": {
          "base_uri": "https://localhost:8080/"
        },
        "id": "axk15jth3slc",
        "outputId": "5d521939-063a-43bb-ed87-c9769e67b451"
      },
      "execution_count": 34,
      "outputs": [
        {
          "output_type": "stream",
          "name": "stdout",
          "text": [
            "Entradas 2 a 7 de x: [-5 31 -1 -9 10  0]\n"
          ]
        }
      ]
    },
    {
      "cell_type": "markdown",
      "source": [
        " **Extraer** las entradas de y excepto la 2 y la 7."
      ],
      "metadata": {
        "id": "pfXqENt433WW"
      }
    },
    {
      "cell_type": "code",
      "source": [
        "sin_entradas = np.delete(y, [1, 6])\n",
        "print(\"Y sin las entradas 2 y 7:\", sin_entradas)\n",
        "print(\"Vector original:\", y)"
      ],
      "metadata": {
        "colab": {
          "base_uri": "https://localhost:8080/"
        },
        "id": "DbB2D3ay341Q",
        "outputId": "d8ed18c9-92ea-4a79-bf7f-192a2f907537"
      },
      "execution_count": 35,
      "outputs": [
        {
          "output_type": "stream",
          "name": "stdout",
          "text": [
            "Y sin las entradas 2 y 7: [  1  -3   1 -99 -10  -7]\n",
            "Vector original: [  1   1  -3   1 -99 -10  10  -7]\n"
          ]
        }
      ]
    },
    {
      "cell_type": "markdown",
      "source": [
        " Extraer las entradas de y menores a -3 o mayores a 10."
      ],
      "metadata": {
        "id": "plvlTeNR4eUF"
      }
    },
    {
      "cell_type": "code",
      "source": [
        "menor_mayor = y[(y < -3) | (y > 10)]\n",
        "print(\"Y menores a -3 o mayores a 10:\", menor_mayor)"
      ],
      "metadata": {
        "colab": {
          "base_uri": "https://localhost:8080/"
        },
        "id": "vHFlvhb84dcT",
        "outputId": "233814bb-62ac-4bed-cb41-6f3db2aef6fe"
      },
      "execution_count": 36,
      "outputs": [
        {
          "output_type": "stream",
          "name": "stdout",
          "text": [
            "Y menores a -3 o mayores a 10: [-99 -10  -7]\n"
          ]
        }
      ]
    },
    {
      "cell_type": "markdown",
      "source": [
        "Extraer las entradas de x mayores a 0 y que sean números pares."
      ],
      "metadata": {
        "id": "87dT8mb05Rw5"
      }
    },
    {
      "cell_type": "code",
      "source": [
        "mayor_par = x[(x > 0) & (x % 2 == 0)]\n",
        "print(\"X mayores a 0 y pares:\", mayor_par)"
      ],
      "metadata": {
        "colab": {
          "base_uri": "https://localhost:8080/"
        },
        "id": "ZvhIUYTD5Y2e",
        "outputId": "834a9e91-84ca-4f89-b4ed-2627eb990a21"
      },
      "execution_count": 37,
      "outputs": [
        {
          "output_type": "stream",
          "name": "stdout",
          "text": [
            "X mayores a 0 y pares: [10 18]\n"
          ]
        }
      ]
    },
    {
      "cell_type": "markdown",
      "source": [
        "## Ejercicio 3"
      ],
      "metadata": {
        "id": "vgZYJ_2T5lgW"
      }
    },
    {
      "cell_type": "code",
      "source": [
        "matriz = np.array([[1,2, 3], [4, 5, 6], [7, 8, 9], [11, 12, 13]])\n",
        "print(matriz)"
      ],
      "metadata": {
        "colab": {
          "base_uri": "https://localhost:8080/"
        },
        "id": "tZxR3X165oC-",
        "outputId": "46bdbaa7-1d52-478c-eeef-dca64f1a2a51"
      },
      "execution_count": 38,
      "outputs": [
        {
          "output_type": "stream",
          "name": "stdout",
          "text": [
            "[[ 1  2  3]\n",
            " [ 4  5  6]\n",
            " [ 7  8  9]\n",
            " [11 12 13]]\n"
          ]
        }
      ]
    },
    {
      "cell_type": "markdown",
      "source": [
        "Datos primera fila, columna del 1 al **3**"
      ],
      "metadata": {
        "id": "rlVE7qBx6nne"
      }
    },
    {
      "cell_type": "code",
      "source": [
        "A = matriz[0, 0:3]\n",
        "print(A)"
      ],
      "metadata": {
        "colab": {
          "base_uri": "https://localhost:8080/"
        },
        "id": "x_mT-uwI6rsj",
        "outputId": "c8f42934-571c-4644-9380-3bcccbbdd4c8"
      },
      "execution_count": 39,
      "outputs": [
        {
          "output_type": "stream",
          "name": "stdout",
          "text": [
            "[1 2 3]\n"
          ]
        }
      ]
    },
    {
      "cell_type": "markdown",
      "source": [
        "Todas las filas de la segunda columna"
      ],
      "metadata": {
        "id": "CGvGiXHe7CZY"
      }
    },
    {
      "cell_type": "code",
      "source": [
        "B = matriz[:, 1]\n",
        "print(B)"
      ],
      "metadata": {
        "colab": {
          "base_uri": "https://localhost:8080/"
        },
        "id": "db85pdLb7EbA",
        "outputId": "60380636-833a-482f-bfe1-fe40b91f3ca2"
      },
      "execution_count": 40,
      "outputs": [
        {
          "output_type": "stream",
          "name": "stdout",
          "text": [
            "[ 2  5  8 12]\n"
          ]
        }
      ]
    },
    {
      "cell_type": "markdown",
      "source": [
        "Elemento en fila 3, columna 3"
      ],
      "metadata": {
        "id": "wnnJKKbg7UF6"
      }
    },
    {
      "cell_type": "code",
      "source": [
        "C = matriz[2,2]\n",
        "print(C)"
      ],
      "metadata": {
        "colab": {
          "base_uri": "https://localhost:8080/"
        },
        "id": "1bsMUyqJ7UwE",
        "outputId": "4e7890f6-66ba-4bb6-b100-b9d0dfd2f67f"
      },
      "execution_count": 41,
      "outputs": [
        {
          "output_type": "stream",
          "name": "stdout",
          "text": [
            "9\n"
          ]
        }
      ]
    },
    {
      "cell_type": "markdown",
      "source": [
        "Elemento 11 en orden de *columnas*"
      ],
      "metadata": {
        "id": "n_j1QsC57ete"
      }
    },
    {
      "cell_type": "code",
      "source": [
        "# Aplanar la matriz en orden de columnas (Fortran order)\n",
        "orden_columnas= matriz.ravel(order='F')\n",
        "print(orden_columnas)\n",
        "\n",
        "D = orden_columnas[10]\n",
        "print(D)"
      ],
      "metadata": {
        "colab": {
          "base_uri": "https://localhost:8080/"
        },
        "id": "2jd8NfZR7fhs",
        "outputId": "48485875-75ca-4d0e-d4f0-31df9df8868c"
      },
      "execution_count": 42,
      "outputs": [
        {
          "output_type": "stream",
          "name": "stdout",
          "text": [
            "[ 1  4  7 11  2  5  8 12  3  6  9 13]\n",
            "9\n"
          ]
        }
      ]
    },
    {
      "cell_type": "markdown",
      "source": [
        "## Ejercicio 4"
      ],
      "metadata": {
        "id": "RUUbX_ND8fCs"
      }
    },
    {
      "cell_type": "markdown",
      "source": [
        "Convertir a una matriz\n"
      ],
      "metadata": {
        "id": "U6M1CBfQ86hO"
      }
    },
    {
      "cell_type": "code",
      "source": [
        "#Ejemplo con una lista\n",
        "lista = [1, 2, 3, 4, 5, 6]\n",
        "print(lista)\n",
        "matriz = np.array(lista)\n",
        "print(matriz)\n",
        "\n",
        "#Ejemplo con una lista de listas\n",
        "lista_de_listas = [[1, 2, 3], [4, 5, 6]]\n",
        "print(lista_de_listas)\n",
        "matriz = np.array(lista_de_listas)\n",
        "print(matriz)"
      ],
      "metadata": {
        "colab": {
          "base_uri": "https://localhost:8080/"
        },
        "id": "YST3nDbp8gXg",
        "outputId": "39cc8918-043f-44a1-9e27-f7a51fe17add"
      },
      "execution_count": 43,
      "outputs": [
        {
          "output_type": "stream",
          "name": "stdout",
          "text": [
            "[1, 2, 3, 4, 5, 6]\n",
            "[1 2 3 4 5 6]\n",
            "[[1, 2, 3], [4, 5, 6]]\n",
            "[[1 2 3]\n",
            " [4 5 6]]\n"
          ]
        }
      ]
    },
    {
      "cell_type": "markdown",
      "source": [
        "Convertir a un DataFrame\n",
        "\n",
        "Usamos pandas"
      ],
      "metadata": {
        "id": "kw0MgrOS9Zu-"
      }
    },
    {
      "cell_type": "code",
      "source": [
        "import pandas as pd\n",
        "\n",
        "#Ejemplo con una lista\n",
        "lista = [1, 2, 3, 4, 5, 6]\n",
        "print(lista)\n",
        "\n",
        "df = pd.DataFrame(lista, columns=[\"Columna\"])\n",
        "print(df)"
      ],
      "metadata": {
        "colab": {
          "base_uri": "https://localhost:8080/"
        },
        "id": "k2w88M4A9qJU",
        "outputId": "8ab0a517-8247-48d2-c70a-5addb45030bf"
      },
      "execution_count": 44,
      "outputs": [
        {
          "output_type": "stream",
          "name": "stdout",
          "text": [
            "[1, 2, 3, 4, 5, 6]\n",
            "   Columna\n",
            "0        1\n",
            "1        2\n",
            "2        3\n",
            "3        4\n",
            "4        5\n",
            "5        6\n"
          ]
        }
      ]
    },
    {
      "cell_type": "code",
      "source": [
        "#Ejemplo con una matriz\n",
        "matriz = np.array([[1, 2, 3], [4, 5, 6], [7, 8, 9]])\n",
        "print(matriz)\n",
        "\n",
        "df = pd.DataFrame(matriz, columns=[\"Columna 1\", \"Columna 2\", \"Columna 3\"])\n",
        "print(df)"
      ],
      "metadata": {
        "colab": {
          "base_uri": "https://localhost:8080/"
        },
        "id": "QYM3L8aB-BIK",
        "outputId": "8e08fc5c-a13c-469d-85d9-cce45e7dc263"
      },
      "execution_count": 45,
      "outputs": [
        {
          "output_type": "stream",
          "name": "stdout",
          "text": [
            "[[1 2 3]\n",
            " [4 5 6]\n",
            " [7 8 9]]\n",
            "   Columna 1  Columna 2  Columna 3\n",
            "0          1          2          3\n",
            "1          4          5          6\n",
            "2          7          8          9\n"
          ]
        }
      ]
    },
    {
      "cell_type": "code",
      "source": [
        "#Ejemplo con un diccionario\n",
        "diccionario = {\"Columna 1\": [1, 4, 7], \"Columna 2\": [2, 5, 8], \"Columna 3\": [3, 6, 9]}\n",
        "print(diccionario)\n",
        "\n",
        "df = pd.DataFrame(diccionario)\n",
        "print(df)"
      ],
      "metadata": {
        "colab": {
          "base_uri": "https://localhost:8080/"
        },
        "id": "EG_yqGrv_VEe",
        "outputId": "23febd99-f044-42d3-dee8-515ed0e93eca"
      },
      "execution_count": 46,
      "outputs": [
        {
          "output_type": "stream",
          "name": "stdout",
          "text": [
            "{'Columna 1': [1, 4, 7], 'Columna 2': [2, 5, 8], 'Columna 3': [3, 6, 9]}\n",
            "   Columna 1  Columna 2  Columna 3\n",
            "0          1          2          3\n",
            "1          4          5          6\n",
            "2          7          8          9\n"
          ]
        }
      ]
    },
    {
      "cell_type": "markdown",
      "source": [
        "De matriz a DataFrame"
      ],
      "metadata": {
        "id": "8sboMxVl_juz"
      }
    },
    {
      "cell_type": "code",
      "source": [
        "matriz = np.array([[1,2,3],[4,5,6], [7,8,9]])\n",
        "print(matriz)\n",
        "\n",
        "df = pd.DataFrame(matriz, columns=[\"Columna 1\", \"Columna 2\", \"Columna 3\"])\n",
        "print(df)"
      ],
      "metadata": {
        "colab": {
          "base_uri": "https://localhost:8080/"
        },
        "id": "3a2dCNOl_kXP",
        "outputId": "440dc8a1-9cf2-4778-ce4d-de97100fffd9"
      },
      "execution_count": 47,
      "outputs": [
        {
          "output_type": "stream",
          "name": "stdout",
          "text": [
            "[[1 2 3]\n",
            " [4 5 6]\n",
            " [7 8 9]]\n",
            "   Columna 1  Columna 2  Columna 3\n",
            "0          1          2          3\n",
            "1          4          5          6\n",
            "2          7          8          9\n"
          ]
        }
      ]
    },
    {
      "cell_type": "markdown",
      "source": [
        "De DataFrame a matriz"
      ],
      "metadata": {
        "id": "Mq1LTut0_3oZ"
      }
    },
    {
      "cell_type": "code",
      "source": [
        "matriz = df.to_numpy()\n",
        "print(matriz)"
      ],
      "metadata": {
        "colab": {
          "base_uri": "https://localhost:8080/"
        },
        "id": "adWZss7c_4Wo",
        "outputId": "f4c4fb4e-7380-4d28-8248-72e4b86fa6e1"
      },
      "execution_count": 48,
      "outputs": [
        {
          "output_type": "stream",
          "name": "stdout",
          "text": [
            "[[1 2 3]\n",
            " [4 5 6]\n",
            " [7 8 9]]\n"
          ]
        }
      ]
    },
    {
      "cell_type": "markdown",
      "source": [
        "Ejercicio 5"
      ],
      "metadata": {
        "id": "LKzC8zrLZPFI"
      }
    },
    {
      "cell_type": "code",
      "source": [
        "diccionario = {\"Peso\": [76, 67, 55, 57, 87, 48], \"Edad\": [25, 23, 19, 18, 57, 13], \"Nivel Educativo\": [\"Lic\", \"Bach\", \"Bach\", \"Bach\", \"Dr\", \"MSc\"]}\n",
        "df = pd.DataFrame(diccionario)\n",
        "print(df)"
      ],
      "metadata": {
        "colab": {
          "base_uri": "https://localhost:8080/"
        },
        "id": "AGaTAQIgZRIu",
        "outputId": "61fd0e5f-c919-4daf-f692-834fde1701ff"
      },
      "execution_count": 49,
      "outputs": [
        {
          "output_type": "stream",
          "name": "stdout",
          "text": [
            "   Peso  Edad Nivel Educativo\n",
            "0    76    25             Lic\n",
            "1    67    23            Bach\n",
            "2    55    19            Bach\n",
            "3    57    18            Bach\n",
            "4    87    57              Dr\n",
            "5    48    13             MSc\n"
          ]
        }
      ]
    },
    {
      "cell_type": "markdown",
      "source": [
        "Ejercicio 6\n",
        "\n",
        "\n"
      ],
      "metadata": {
        "id": "0F1FY7OGaRH1"
      }
    },
    {
      "cell_type": "code",
      "source": [
        "#Vector formado por las componentes positivas de x.\n",
        "x = np.array([2, -5, 4, 6, -2, 8])\n",
        "print(x)\n",
        "\n",
        "x_pos = x[x > 0]\n",
        "print(x_pos)"
      ],
      "metadata": {
        "colab": {
          "base_uri": "https://localhost:8080/"
        },
        "id": "az35eWYdaU-s",
        "outputId": "9d6f95b9-2e1a-4d73-c60d-16426c61c7dd"
      },
      "execution_count": 50,
      "outputs": [
        {
          "output_type": "stream",
          "name": "stdout",
          "text": [
            "[ 2 -5  4  6 -2  8]\n",
            "[2 4 6 8]\n"
          ]
        }
      ]
    },
    {
      "cell_type": "code",
      "source": [
        "#Vector formado por las componentes negativas de x\n",
        "x_neg = x[x < 0]\n",
        "print(x_neg)"
      ],
      "metadata": {
        "colab": {
          "base_uri": "https://localhost:8080/"
        },
        "id": "l0ie8AKUarvI",
        "outputId": "c9b90448-3eb1-4e44-ab9b-49e2a188f7d7"
      },
      "execution_count": 51,
      "outputs": [
        {
          "output_type": "stream",
          "name": "stdout",
          "text": [
            "[-5 -2]\n"
          ]
        }
      ]
    },
    {
      "cell_type": "code",
      "source": [
        "#Vector x eliminada la primera componente.\n",
        "x_sin_primera = x[1:]\n",
        "print(x_sin_primera)"
      ],
      "metadata": {
        "colab": {
          "base_uri": "https://localhost:8080/"
        },
        "id": "MX_t1hVea6_K",
        "outputId": "13670ebf-8db9-4d87-9031-ce83a8819810"
      },
      "execution_count": 52,
      "outputs": [
        {
          "output_type": "stream",
          "name": "stdout",
          "text": [
            "[-5  4  6 -2  8]\n"
          ]
        }
      ]
    },
    {
      "cell_type": "code",
      "source": [
        " #Vector x tomando las componentes con índice impares, es decir, x[1] = 2, x[3] = 4 y x[5] = −2.\n",
        " x_impar = x[1::2] #desde el elemento en posicion 1 y va de 2 en 2\n",
        " print(x_impar)"
      ],
      "metadata": {
        "colab": {
          "base_uri": "https://localhost:8080/"
        },
        "id": "p9VZNjR9bRsv",
        "outputId": "d50c85eb-2ec1-4421-de02-8d756f0ff917"
      },
      "execution_count": 53,
      "outputs": [
        {
          "output_type": "stream",
          "name": "stdout",
          "text": [
            "[-5  6  8]\n"
          ]
        }
      ]
    },
    {
      "cell_type": "markdown",
      "source": [
        "Ejercicio 7\n"
      ],
      "metadata": {
        "id": "39rvX5IgcfQ4"
      }
    },
    {
      "cell_type": "code",
      "source": [
        "#Representar gráficamente la función coseno en el intervalo [0, 2π].\n",
        "#Para esto creamos el vector x de la siguiente forma x<-seq(0,2*pi,length=100).\n",
        "#p.linspace(start, stop, num):\n",
        "#start: El valor inicial del vector (en este caso, 0).\n",
        "#stop: El valor final del vector (en este caso, 2𝜋).\n",
        "#num: La cantidad de puntos equidistantes que deseas (en este caso, 100).\n",
        "\n",
        "x = np.linspace(0, 2*np.pi, 100)\n",
        "\n",
        "#graficamos con matplotlib\n",
        "y = np.cos(x)\n",
        "plt.plot(x, y)\n",
        "plt.xlabel(\"x\")\n",
        "plt.ylabel(\"cos(x)\")\n",
        "plt.title(\"Función coseno\")\n",
        "plt.show()\n"
      ],
      "metadata": {
        "colab": {
          "base_uri": "https://localhost:8080/",
          "height": 472
        },
        "id": "P_JrgoHDclNm",
        "outputId": "d5184100-69cc-402a-91db-e21c5ee5aa83"
      },
      "execution_count": 54,
      "outputs": [
        {
          "output_type": "display_data",
          "data": {
            "text/plain": [
              "<Figure size 640x480 with 1 Axes>"
            ],
            "image/png": "[encoded data removed]"
          },
          "metadata": {}
        }
      ]
    },
    {
      "cell_type": "markdown",
      "source": [
        "Ejercicio 8\n",
        "\n",
        "Para tabla de Datos que viene en el archivo DJTable.csv el cual contiene los valores de las acciones de las principales empresas de Estados Unidos en el año 2010, grafique (en un mismo gráfico) las series de valores de las acciones de las empresas CSCO (Cisco), IBM, INTC (Intel) y MSFT (Microsoft)."
      ],
      "metadata": {
        "id": "1c1wxZnifEH-"
      }
    },
    {
      "cell_type": "code",
      "source": [
        "datos = pd.read_csv(\"DJTable.csv\", sep=\";\", decimal=\".\")\n",
        "print(datos.columns)\n",
        "datos = datos.rename(columns={\"Unnamed: 0\": \"Fecha\"})\n",
        "print(datos.columns)\n",
        "datos[\"Fecha\"] = pd.to_datetime(datos[\"Fecha\"], format=\"%d/%m/%Y\")\n",
        "\n",
        "plt.figure(figsize=(10, 6))\n",
        "plt.plot(datos[\"Fecha\"], datos[\"CSCO\"], label=\"Cisco\", color=\"blue\")\n",
        "plt.plot(datos[\"Fecha\"], datos[\"IBM\"], label=\"IBM\", color=\"red\")\n",
        "plt.plot(datos[\"Fecha\"], datos[\"INTC\"], label=\"Intel\", color=\"green\")\n",
        "plt.plot(datos[\"Fecha\"], datos[\"MSFT\"], label=\"Microsoft\", color=\"purple\")\n",
        "\n",
        "plt.xlabel(\"Fecha\")\n",
        "plt.ylabel(\"Precio de Acciones\")\n",
        "plt.title(\"Valores de Acciones de Empresas en 2010\")\n",
        "plt.legend(loc=\"upper right\")\n",
        "plt.show()\n",
        "\n"
      ],
      "metadata": {
        "colab": {
          "base_uri": "https://localhost:8080/",
          "height": 738
        },
        "id": "hMklQ9_GfP4X",
        "outputId": "45911f2d-b492-4d0c-fa09-280398b1e316"
      },
      "execution_count": 55,
      "outputs": [
        {
          "output_type": "stream",
          "name": "stdout",
          "text": [
            "Index(['Unnamed: 0', 'AA', 'AXP', 'BA', 'BAC', 'CAT', 'CSCO', 'CVX', 'DD',\n",
            "       'DIS', 'GE', 'HD', 'HPQ', 'IBM', 'INTC', 'JNJ', 'JPM', 'KO', 'MCD',\n",
            "       'MMM', 'MRK', 'MSFT', 'PFE', 'PG', 'T', 'TRV', 'UNH', 'UTX', 'VZ',\n",
            "       'WMT', 'XOM'],\n",
            "      dtype='object')\n",
            "Index(['Fecha', 'AA', 'AXP', 'BA', 'BAC', 'CAT', 'CSCO', 'CVX', 'DD', 'DIS',\n",
            "       'GE', 'HD', 'HPQ', 'IBM', 'INTC', 'JNJ', 'JPM', 'KO', 'MCD', 'MMM',\n",
            "       'MRK', 'MSFT', 'PFE', 'PG', 'T', 'TRV', 'UNH', 'UTX', 'VZ', 'WMT',\n",
            "       'XOM'],\n",
            "      dtype='object')\n"
          ]
        },
        {
          "output_type": "display_data",
          "data": {
            "text/plain": [
              "<Figure size 1000x600 with 1 Axes>"
            ],
            "image/png": "[encoded data removed]"
          },
          "metadata": {}
        }
      ]
    },
    {
      "cell_type": "markdown",
      "source": [
        "Lo mismo pero con seaborn"
      ],
      "metadata": {
        "id": "HsJ6ez3NvHy1"
      }
    },
    {
      "cell_type": "code",
      "source": [
        "## Reestructurar los datos para que estén en formato largo (long format) para Seaborn\n",
        "datos_largos = pd.melt(datos, id_vars=[\"Fecha\"], value_vars=['CSCO', 'IBM', 'INTC', 'MSFT'], var_name=\"Empresa\", value_name=\"Precio\")\n",
        "\n",
        "plt.figure(figsize=(10, 6))\n",
        "#sns.lineplot es la función equivalente a geom_line\n",
        "#hue es para representa las empresas con colores distintos\n",
        "sns.lineplot(data=datos_largos, x=\"Fecha\", y=\"Precio\", hue=\"Empresa\")\n",
        "plt.xlabel(\"Fecha\")\n",
        "plt.ylabel(\"Precio de Acciones\")\n",
        "\n",
        "plt.legend(title=\"Empresa\")\n",
        "plt.show()\n"
      ],
      "metadata": {
        "id": "RTu1cGgKvTVf",
        "colab": {
          "base_uri": "https://localhost:8080/",
          "height": 542
        },
        "outputId": "77dd9d27-0b4e-40b7-908f-2405d7b9fa45"
      },
      "execution_count": 56,
      "outputs": [
        {
          "output_type": "display_data",
          "data": {
            "text/plain": [
              "<Figure size 1000x600 with 1 Axes>"
            ],
            "image/png": "[encoded data removed]"
          },
          "metadata": {}
        }
      ]
    },
    {
      "cell_type": "markdown",
      "source": [
        "Ejercicio 10\n",
        "\n",
        "Con la tabla EjemploAlgoritmosRecomendacion"
      ],
      "metadata": {
        "id": "GT-1uJ97xV7g"
      }
    },
    {
      "cell_type": "code",
      "source": [
        "datos2 = pd.read_csv(\"EjemploAlgoritmosRecomendacion.csv\", sep=\";\", decimal=\",\", index_col = 0)\n",
        "print(datos2.columns)\n",
        "\n",
        "\n",
        "#Calcule la dimensión de la Tabla de Datos.\n",
        "print(\"Dimesion tabla: \", datos2.shape)\n",
        "\n",
        "#Despliegue las primeras 2 columnas de la tabla de datos.\n",
        "datos2.iloc[:, 0:2]"
      ],
      "metadata": {
        "id": "TU_M1qtOxWZ7",
        "colab": {
          "base_uri": "https://localhost:8080/",
          "height": 510
        },
        "outputId": "147325b4-627f-427b-ecfb-149d397f5a2e"
      },
      "execution_count": 57,
      "outputs": [
        {
          "output_type": "stream",
          "name": "stdout",
          "text": [
            "Index(['VelocidadEntrega', 'Precio', 'Durabilidad', 'ImagenProducto',\n",
            "       'ValorEducativo', 'ServicioRetorno', 'TamanoPaquete',\n",
            "       'Calidad Producto', 'NumeroEstrellas'],\n",
            "      dtype='object')\n",
            "Dimesion tabla:  (100, 9)\n"
          ]
        },
        {
          "output_type": "execute_result",
          "data": {
            "text/plain": [
              "         VelocidadEntrega  Precio\n",
              "Adam                 2.05    0.30\n",
              "Anna                 0.90    1.50\n",
              "Bernard              1.70    2.60\n",
              "Edward               1.35    0.50\n",
              "Emilia               3.00    0.45\n",
              "...                   ...     ...\n",
              "Teofan               0.30    0.80\n",
              "Teofil               3.05    0.25\n",
              "Teofila              1.00    1.40\n",
              "Teon                 1.55    1.10\n",
              "Teresa               1.25    0.90\n",
              "\n",
              "[100 rows x 2 columns]"
            ],
            "text/html": [
              "\n",
              "  <div id=\"df-60eb3698-c955-4acd-b929-5cebbaab6f83\" class=\"colab-df-container\">\n",
              "    <div>\n",
              "<style scoped>\n",
              "    .dataframe tbody tr th:only-of-type {\n",
              "        vertical-align: middle;\n",
              "    }\n",
              "\n",
              "    .dataframe tbody tr th {\n",
              "        vertical-align: top;\n",
              "    }\n",
              "\n",
              "    .dataframe thead th {\n",
              "        text-align: right;\n",
              "    }\n",
              "</style>\n",
              "<table border=\"1\" class=\"dataframe\">\n",
              "  <thead>\n",
              "    <tr style=\"text-align: right;\">\n",
              "      <th></th>\n",
              "      <th>VelocidadEntrega</th>\n",
              "      <th>Precio</th>\n",
              "    </tr>\n",
              "  </thead>\n",
              "  <tbody>\n",
              "    <tr>\n",
              "      <th>Adam</th>\n",
              "      <td>2.05</td>\n",
              "      <td>0.30</td>\n",
              "    </tr>\n",
              "    <tr>\n",
              "      <th>Anna</th>\n",
              "      <td>0.90</td>\n",
              "      <td>1.50</td>\n",
              "    </tr>\n",
              "    <tr>\n",
              "      <th>Bernard</th>\n",
              "      <td>1.70</td>\n",
              "      <td>2.60</td>\n",
              "    </tr>\n",
              "    <tr>\n",
              "      <th>Edward</th>\n",
              "      <td>1.35</td>\n",
              "      <td>0.50</td>\n",
              "    </tr>\n",
              "    <tr>\n",
              "      <th>Emilia</th>\n",
              "      <td>3.00</td>\n",
              "      <td>0.45</td>\n",
              "    </tr>\n",
              "    <tr>\n",
              "      <th>...</th>\n",
              "      <td>...</td>\n",
              "      <td>...</td>\n",
              "    </tr>\n",
              "    <tr>\n",
              "      <th>Teofan</th>\n",
              "      <td>0.30</td>\n",
              "      <td>0.80</td>\n",
              "    </tr>\n",
              "    <tr>\n",
              "      <th>Teofil</th>\n",
              "      <td>3.05</td>\n",
              "      <td>0.25</td>\n",
              "    </tr>\n",
              "    <tr>\n",
              "      <th>Teofila</th>\n",
              "      <td>1.00</td>\n",
              "      <td>1.40</td>\n",
              "    </tr>\n",
              "    <tr>\n",
              "      <th>Teon</th>\n",
              "      <td>1.55</td>\n",
              "      <td>1.10</td>\n",
              "    </tr>\n",
              "    <tr>\n",
              "      <th>Teresa</th>\n",
              "      <td>1.25</td>\n",
              "      <td>0.90</td>\n",
              "    </tr>\n",
              "  </tbody>\n",
              "</table>\n",
              "<p>100 rows × 2 columns</p>\n",
              "</div>\n",
              "    <div class=\"colab-df-buttons\">\n",
              "\n",
              "  <div class=\"colab-df-container\">\n",
              "    <button class=\"colab-df-convert\" onclick=\"convertToInteractive('df-60eb3698-c955-4acd-b929-5cebbaab6f83')\"\n",
              "            title=\"Convert this dataframe to an interactive table.\"\n",
              "            style=\"display:none;\">\n",
              "\n",
              "  <svg xmlns=\"http://www.w3.org/2000/svg\" height=\"24px\" viewBox=\"0 -960 960 960\">\n",
              "    <path d=\"M120-120v-720h720v720H120Zm60-500h600v-160H180v160Zm220 220h160v-160H400v160Zm0 220h160v-160H400v160ZM180-400h160v-160H180v160Zm440 0h160v-160H620v160ZM180-180h160v-160H180v160Zm440 0h160v-160H620v160Z\"/>\n",
              "  </svg>\n",
              "    </button>\n",
              "\n",
              "  <style>\n",
              "    .colab-df-container {\n",
              "      display:flex;\n",
              "      gap: 12px;\n",
              "    }\n",
              "\n",
              "    .colab-df-convert {\n",
              "      background-color: #E8F0FE;\n",
              "      border: none;\n",
              "      border-radius: 50%;\n",
              "      cursor: pointer;\n",
              "      display: none;\n",
              "      fill: #1967D2;\n",
              "      height: 32px;\n",
              "      padding: 0 0 0 0;\n",
              "      width: 32px;\n",
              "    }\n",
              "\n",
              "    .colab-df-convert:hover {\n",
              "      background-color: #E2EBFA;\n",
              "      box-shadow: 0px 1px 2px rgba(60, 64, 67, 0.3), 0px 1px 3px 1px rgba(60, 64, 67, 0.15);\n",
              "      fill: #174EA6;\n",
              "    }\n",
              "\n",
              "    .colab-df-buttons div {\n",
              "      margin-bottom: 4px;\n",
              "    }\n",
              "\n",
              "    [theme=dark] .colab-df-convert {\n",
              "      background-color: #3B4455;\n",
              "      fill: #D2E3FC;\n",
              "    }\n",
              "\n",
              "    [theme=dark] .colab-df-convert:hover {\n",
              "      background-color: #434B5C;\n",
              "      box-shadow: 0px 1px 3px 1px rgba(0, 0, 0, 0.15);\n",
              "      filter: drop-shadow(0px 1px 2px rgba(0, 0, 0, 0.3));\n",
              "      fill: #FFFFFF;\n",
              "    }\n",
              "  </style>\n",
              "\n",
              "    <script>\n",
              "      const buttonEl =\n",
              "        document.querySelector('#df-60eb3698-c955-4acd-b929-5cebbaab6f83 button.colab-df-convert');\n",
              "      buttonEl.style.display =\n",
              "        google.colab.kernel.accessAllowed ? 'block' : 'none';\n",
              "\n",
              "      async function convertToInteractive(key) {\n",
              "        const element = document.querySelector('#df-60eb3698-c955-4acd-b929-5cebbaab6f83');\n",
              "        const dataTable =\n",
              "          await google.colab.kernel.invokeFunction('convertToInteractive',\n",
              "                                                    [key], {});\n",
              "        if (!dataTable) return;\n",
              "\n",
              "        const docLinkHtml = 'Like what you see? Visit the ' +\n",
              "          '<a target=\"_blank\" href=https://colab.research.google.com/notebooks/data_table.ipynb>data table notebook</a>'\n",
              "          + ' to learn more about interactive tables.';\n",
              "        element.innerHTML = '';\n",
              "        dataTable['output_type'] = 'display_data';\n",
              "        await google.colab.output.renderOutput(dataTable, element);\n",
              "        const docLink = document.createElement('div');\n",
              "        docLink.innerHTML = docLinkHtml;\n",
              "        element.appendChild(docLink);\n",
              "      }\n",
              "    </script>\n",
              "  </div>\n",
              "\n",
              "\n",
              "<div id=\"df-964995ec-5ee1-4a8a-9b6a-8c48bf3da05e\">\n",
              "  <button class=\"colab-df-quickchart\" onclick=\"quickchart('df-964995ec-5ee1-4a8a-9b6a-8c48bf3da05e')\"\n",
              "            title=\"Suggest charts\"\n",
              "            style=\"display:none;\">\n",
              "\n",
              "<svg xmlns=\"http://www.w3.org/2000/svg\" height=\"24px\"viewBox=\"0 0 24 24\"\n",
              "     width=\"24px\">\n",
              "    <g>\n",
              "        <path d=\"M19 3H5c-1.1 0-2 .9-2 2v14c0 1.1.9 2 2 2h14c1.1 0 2-.9 2-2V5c0-1.1-.9-2-2-2zM9 17H7v-7h2v7zm4 0h-2V7h2v10zm4 0h-2v-4h2v4z\"/>\n",
              "    </g>\n",
              "</svg>\n",
              "  </button>\n",
              "\n",
              "<style>\n",
              "  .colab-df-quickchart {\n",
              "      --bg-color: #E8F0FE;\n",
              "      --fill-color: #1967D2;\n",
              "      --hover-bg-color: #E2EBFA;\n",
              "      --hover-fill-color: #174EA6;\n",
              "      --disabled-fill-color: #AAA;\n",
              "      --disabled-bg-color: #DDD;\n",
              "  }\n",
              "\n",
              "  [theme=dark] .colab-df-quickchart {\n",
              "      --bg-color: #3B4455;\n",
              "      --fill-color: #D2E3FC;\n",
              "      --hover-bg-color: #434B5C;\n",
              "      --hover-fill-color: #FFFFFF;\n",
              "      --disabled-bg-color: #3B4455;\n",
              "      --disabled-fill-color: #666;\n",
              "  }\n",
              "\n",
              "  .colab-df-quickchart {\n",
              "    background-color: var(--bg-color);\n",
              "    border: none;\n",
              "    border-radius: 50%;\n",
              "    cursor: pointer;\n",
              "    display: none;\n",
              "    fill: var(--fill-color);\n",
              "    height: 32px;\n",
              "    padding: 0;\n",
              "    width: 32px;\n",
              "  }\n",
              "\n",
              "  .colab-df-quickchart:hover {\n",
              "    background-color: var(--hover-bg-color);\n",
              "    box-shadow: 0 1px 2px rgba(60, 64, 67, 0.3), 0 1px 3px 1px rgba(60, 64, 67, 0.15);\n",
              "    fill: var(--button-hover-fill-color);\n",
              "  }\n",
              "\n",
              "  .colab-df-quickchart-complete:disabled,\n",
              "  .colab-df-quickchart-complete:disabled:hover {\n",
              "    background-color: var(--disabled-bg-color);\n",
              "    fill: var(--disabled-fill-color);\n",
              "    box-shadow: none;\n",
              "  }\n",
              "\n",
              "  .colab-df-spinner {\n",
              "    border: 2px solid var(--fill-color);\n",
              "    border-color: transparent;\n",
              "    border-bottom-color: var(--fill-color);\n",
              "    animation:\n",
              "      spin 1s steps(1) infinite;\n",
              "  }\n",
              "\n",
              "  @keyframes spin {\n",
              "    0% {\n",
              "      border-color: transparent;\n",
              "      border-bottom-color: var(--fill-color);\n",
              "      border-left-color: var(--fill-color);\n",
              "    }\n",
              "    20% {\n",
              "      border-color: transparent;\n",
              "      border-left-color: var(--fill-color);\n",
              "      border-top-color: var(--fill-color);\n",
              "    }\n",
              "    30% {\n",
              "      border-color: transparent;\n",
              "      border-left-color: var(--fill-color);\n",
              "      border-top-color: var(--fill-color);\n",
              "      border-right-color: var(--fill-color);\n",
              "    }\n",
              "    40% {\n",
              "      border-color: transparent;\n",
              "      border-right-color: var(--fill-color);\n",
              "      border-top-color: var(--fill-color);\n",
              "    }\n",
              "    60% {\n",
              "      border-color: transparent;\n",
              "      border-right-color: var(--fill-color);\n",
              "    }\n",
              "    80% {\n",
              "      border-color: transparent;\n",
              "      border-right-color: var(--fill-color);\n",
              "      border-bottom-color: var(--fill-color);\n",
              "    }\n",
              "    90% {\n",
              "      border-color: transparent;\n",
              "      border-bottom-color: var(--fill-color);\n",
              "    }\n",
              "  }\n",
              "</style>\n",
              "\n",
              "  <script>\n",
              "    async function quickchart(key) {\n",
              "      const quickchartButtonEl =\n",
              "        document.querySelector('#' + key + ' button');\n",
              "      quickchartButtonEl.disabled = true;  // To prevent multiple clicks.\n",
              "      quickchartButtonEl.classList.add('colab-df-spinner');\n",
              "      try {\n",
              "        const charts = await google.colab.kernel.invokeFunction(\n",
              "            'suggestCharts', [key], {});\n",
              "      } catch (error) {\n",
              "        console.error('Error during call to suggestCharts:', error);\n",
              "      }\n",
              "      quickchartButtonEl.classList.remove('colab-df-spinner');\n",
              "      quickchartButtonEl.classList.add('colab-df-quickchart-complete');\n",
              "    }\n",
              "    (() => {\n",
              "      let quickchartButtonEl =\n",
              "        document.querySelector('#df-964995ec-5ee1-4a8a-9b6a-8c48bf3da05e button');\n",
              "      quickchartButtonEl.style.display =\n",
              "        google.colab.kernel.accessAllowed ? 'block' : 'none';\n",
              "    })();\n",
              "  </script>\n",
              "</div>\n",
              "\n",
              "    </div>\n",
              "  </div>\n"
            ],
            "application/vnd.google.colaboratory.intrinsic+json": {
              "type": "dataframe",
              "summary": "{\n  \"name\": \"datos2\",\n  \"rows\": 100,\n  \"fields\": [\n    {\n      \"column\": \"VelocidadEntrega\",\n      \"properties\": {\n        \"dtype\": \"number\",\n        \"std\": 0.6603631920803471,\n        \"min\": 0.0,\n        \"max\": 3.05,\n        \"num_unique_values\": 47,\n        \"samples\": [\n          1.0,\n          0.8,\n          2.5\n        ],\n        \"semantic_type\": \"\",\n        \"description\": \"\"\n      }\n    },\n    {\n      \"column\": \"Precio\",\n      \"properties\": {\n        \"dtype\": \"number\",\n        \"std\": 0.5978294071054048,\n        \"min\": 0.1,\n        \"max\": 2.7,\n        \"num_unique_values\": 45,\n        \"samples\": [\n          2.3,\n          1.15,\n          1.3\n        ],\n        \"semantic_type\": \"\",\n        \"description\": \"\"\n      }\n    }\n  ]\n}"
            }
          },
          "metadata": {},
          "execution_count": 57
        }
      ]
    },
    {
      "cell_type": "code",
      "source": [
        "#Ejecute un describe(summary) y un info(str) de los datos.\n",
        "print(datos2.describe())\n",
        "\n",
        "print(datos2.info())"
      ],
      "metadata": {
        "id": "SBrc3K_A1Cj2",
        "colab": {
          "base_uri": "https://localhost:8080/"
        },
        "outputId": "d00de9ba-3a28-4550-a178-35cb66857cd4"
      },
      "execution_count": 58,
      "outputs": [
        {
          "output_type": "stream",
          "name": "stdout",
          "text": [
            "       VelocidadEntrega      Precio  Durabilidad  ImagenProducto  \\\n",
            "count        100.000000  100.000000   100.000000      100.000000   \n",
            "mean           1.757500    1.182000     3.947000        2.624000   \n",
            "std            0.660363    0.597829     0.693251        0.565707   \n",
            "min            0.000000    0.100000     2.500000        1.250000   \n",
            "25%            1.250000    0.737500     3.350000        2.287500   \n",
            "50%            1.700000    1.075000     4.025000        2.500000   \n",
            "75%            2.300000    1.612500     4.550000        3.000000   \n",
            "max            3.050000    2.700000     5.000000        4.100000   \n",
            "\n",
            "       ValorEducativo  ServicioRetorno  TamanoPaquete  Calidad Producto  \\\n",
            "count      100.000000       100.000000      100.00000        100.000000   \n",
            "mean         2.916000         2.665000        3.48550          2.385500   \n",
            "std          0.751258         0.770855        0.79262          0.427779   \n",
            "min          0.700000         1.100000        1.85000          1.600000   \n",
            "25%          2.400000         2.200000        2.90000          2.050000   \n",
            "50%          3.000000         2.600000        3.57500          2.425000   \n",
            "75%          3.425000         3.000000        4.16250          2.700000   \n",
            "max          4.600000         4.600000        5.00000          3.400000   \n",
            "\n",
            "       NumeroEstrellas  \n",
            "count       100.000000  \n",
            "mean          3.110000  \n",
            "std           0.898877  \n",
            "min           1.000000  \n",
            "25%           2.400000  \n",
            "50%           3.150000  \n",
            "75%           3.825000  \n",
            "max           5.000000  \n",
            "<class 'pandas.core.frame.DataFrame'>\n",
            "Index: 100 entries, Adam to Teresa\n",
            "Data columns (total 9 columns):\n",
            " #   Column            Non-Null Count  Dtype  \n",
            "---  ------            --------------  -----  \n",
            " 0   VelocidadEntrega  100 non-null    float64\n",
            " 1   Precio            100 non-null    float64\n",
            " 2   Durabilidad       100 non-null    float64\n",
            " 3   ImagenProducto    100 non-null    float64\n",
            " 4   ValorEducativo    100 non-null    float64\n",
            " 5   ServicioRetorno   100 non-null    float64\n",
            " 6   TamanoPaquete     100 non-null    float64\n",
            " 7   Calidad Producto  100 non-null    float64\n",
            " 8   NumeroEstrellas   100 non-null    float64\n",
            "dtypes: float64(9)\n",
            "memory usage: 11.9+ KB\n",
            "None\n"
          ]
        }
      ]
    },
    {
      "cell_type": "code",
      "source": [
        "#Calcule la Media y la Desviación Estándar para todas las variables cualesquiera.\n",
        "media = datos2.mean()\n",
        "print(\"Media:\", media)\n",
        "\n",
        "desviacion = datos2.std()\n",
        "print(\"Desviación estandar:\", desviacion)"
      ],
      "metadata": {
        "id": "AADlcyes1eju",
        "colab": {
          "base_uri": "https://localhost:8080/"
        },
        "outputId": "193c1aad-d4dc-460d-b358-e9ea41ec0bd3"
      },
      "execution_count": 59,
      "outputs": [
        {
          "output_type": "stream",
          "name": "stdout",
          "text": [
            "Media: VelocidadEntrega    1.7575\n",
            "Precio              1.1820\n",
            "Durabilidad         3.9470\n",
            "ImagenProducto      2.6240\n",
            "ValorEducativo      2.9160\n",
            "ServicioRetorno     2.6650\n",
            "TamanoPaquete       3.4855\n",
            "Calidad Producto    2.3855\n",
            "NumeroEstrellas     3.1100\n",
            "dtype: float64\n",
            "Desviación estandar: VelocidadEntrega    0.660363\n",
            "Precio              0.597829\n",
            "Durabilidad         0.693251\n",
            "ImagenProducto      0.565707\n",
            "ValorEducativo      0.751258\n",
            "ServicioRetorno     0.770855\n",
            "TamanoPaquete       0.792620\n",
            "Calidad Producto    0.427779\n",
            "NumeroEstrellas     0.898877\n",
            "dtype: float64\n"
          ]
        }
      ]
    },
    {
      "cell_type": "markdown",
      "source": [
        "Ejercicio 11"
      ],
      "metadata": {
        "id": "DRLqOZAA2f8H"
      }
    },
    {
      "cell_type": "code",
      "source": [
        "plt.plot(datos2[\"VelocidadEntrega\"], datos2[\"Precio\"], marker='o', color='b', linestyle=' ')\n",
        "plt.xlabel(\"Velocidad de entrega\")\n",
        "plt.ylabel(\"Precio\")\n",
        "plt.title(\"Velocidad de entrega vs Precio\")\n",
        "plt.show()"
      ],
      "metadata": {
        "id": "O6e66_ON_Dgl",
        "colab": {
          "base_uri": "https://localhost:8080/",
          "height": 472
        },
        "outputId": "0d240948-16bc-4aa2-a201-cde1c9cb59ac"
      },
      "execution_count": 60,
      "outputs": [
        {
          "output_type": "display_data",
          "data": {
            "text/plain": [
              "<Figure size 640x480 with 1 Axes>"
            ],
            "image/png": "[encoded data removed]"
          },
          "metadata": {}
        }
      ]
    },
    {
      "cell_type": "code",
      "source": [
        "import seaborn as sns\n",
        "\n",
        "# Graficar usando Seaborn scatterplot (equivalente a qplot en R)\n",
        "sns.scatterplot(x='VelocidadEntrega', y='Precio', data=datos2, hue='Durabilidad', palette='viridis')\n",
        "plt.xlabel('Velocidad de Entrega')\n",
        "plt.ylabel('Precio')\n",
        "plt.title('Entrega vs Precio')\n",
        "plt.show()\n"
      ],
      "metadata": {
        "id": "ICC67gYi_1eP",
        "colab": {
          "base_uri": "https://localhost:8080/",
          "height": 472
        },
        "outputId": "e370dba9-5135-4ca8-fab7-8def90b022c6"
      },
      "execution_count": 61,
      "outputs": [
        {
          "output_type": "display_data",
          "data": {
            "text/plain": [
              "<Figure size 640x480 with 1 Axes>"
            ],
            "image/png": "[encoded data removed]"
          },
          "metadata": {}
        }
      ]
    },
    {
      "cell_type": "markdown",
      "source": [
        "annot=True: Muestra los valores numéricos dentro de cada celda.\n",
        "\n",
        "cmap='coolwarm': Define el esquema de colores para el heatmap.\n",
        "\n",
        "fmt=\".2f\": Especifica el formato para los valores mostrados (2 decimales).\n",
        "\n",
        "linewidths=0.5: Agrega líneas entre las celdas para mayor claridad."
      ],
      "metadata": {
        "id": "czKH71Mfo9o0"
      }
    },
    {
      "cell_type": "code",
      "source": [
        "#Matriz de correlaciones\n",
        "correlaciones = datos2.corr()\n",
        "\n",
        "#crear heatmap\n",
        "plt.figure(figsize=(8, 6))\n",
        "sns.heatmap(correlaciones, annot=True, cmap='viridis', fmt=\".2f\", linewidths=0.5)\n",
        "plt.x\n",
        "plt.title('Matriz de Correlaciones')\n",
        "plt.show()"
      ],
      "metadata": {
        "id": "H0SsVtbjne6A",
        "colab": {
          "base_uri": "https://localhost:8080/",
          "height": 652
        },
        "outputId": "2552c381-345f-4805-d091-d0fe30eda37a"
      },
      "execution_count": 73,
      "outputs": [
        {
          "output_type": "display_data",
          "data": {
            "text/plain": [
              "<Figure size 800x600 with 2 Axes>"
            ],
            "image/png": "[encoded data removed]"
          },
          "metadata": {}
        }
      ]
    },
    {
      "cell_type": "code",
      "source": [
        "#Boxplot para encontrar los datos atípicos de la tabla de datos Ejemplo AlgoritmosRecomendacion.csv.\n",
        "plt.figure(figsize=(8, 6))\n",
        "sns.boxplot(data=datos2, orient='h', palette=\"Paired\")\n",
        "plt.xlabel('Valores')\n",
        "plt.title('Boxplot para Datos Atípicos')\n",
        "plt.show()"
      ],
      "metadata": {
        "colab": {
          "base_uri": "https://localhost:8080/",
          "height": 565
        },
        "id": "0Vf8R6wi64es",
        "outputId": "3157164b-6a3c-4766-8563-1538b722c81c"
      },
      "execution_count": 80,
      "outputs": [
        {
          "output_type": "display_data",
          "data": {
            "text/plain": [
              "<Figure size 800x600 with 1 Axes>"
            ],
            "image/png": "[encoded data removed]"
          },
          "metadata": {}
        }
      ]
    },
    {
      "cell_type": "markdown",
      "source": [
        "Ejercicio 12\n",
        "\n",
        "SAheart"
      ],
      "metadata": {
        "id": "fBach_Jb8S1Z"
      }
    },
    {
      "cell_type": "code",
      "source": [
        "#Cargue la tabla de datos que está en el archivo SAheartv.csv\n",
        "datos_heart = pd.read_csv(\"SAheart.csv\", sep=\";\", decimal=\".\")\n",
        "print(datos_heart.columns)\n",
        "\n",
        "#dimension\n",
        "print(\"Dimensión tabla:\", datos_heart.shape)"
      ],
      "metadata": {
        "colab": {
          "base_uri": "https://localhost:8080/"
        },
        "id": "6EnqgHnq8IrH",
        "outputId": "af139090-7efa-4cff-ff4e-51eda1702af4"
      },
      "execution_count": 85,
      "outputs": [
        {
          "output_type": "stream",
          "name": "stdout",
          "text": [
            "Index(['sbp', 'tobacco', 'ldl', 'adiposity', 'famhist', 'typea', 'obesity',\n",
            "       'alcohol', 'age', 'chd'],\n",
            "      dtype='object')\n",
            "Dimensión tabla: (462, 10)\n"
          ]
        }
      ]
    },
    {
      "cell_type": "code",
      "source": [
        "#Despliegue las primeras 3 columnas de la tabla de datos.\n",
        "print(datos_heart.iloc[:, 0:3])"
      ],
      "metadata": {
        "colab": {
          "base_uri": "https://localhost:8080/"
        },
        "id": "xSQ6M-Rh9T-g",
        "outputId": "eaa83406-28ab-4b9b-a7bf-fc333a996c30"
      },
      "execution_count": 86,
      "outputs": [
        {
          "output_type": "stream",
          "name": "stdout",
          "text": [
            "     sbp  tobacco    ldl\n",
            "0    160    12.00   5.73\n",
            "1    144     0.01   4.41\n",
            "2    118     0.08   3.48\n",
            "3    170     7.50   6.41\n",
            "4    134    13.60   3.50\n",
            "..   ...      ...    ...\n",
            "457  214     0.40   5.98\n",
            "458  182     4.20   4.41\n",
            "459  108     3.00   1.59\n",
            "460  118     5.40  11.61\n",
            "461  132     0.00   4.82\n",
            "\n",
            "[462 rows x 3 columns]\n"
          ]
        }
      ]
    },
    {
      "cell_type": "code",
      "source": [
        "#description e info\n",
        "datos_heart.describe()"
      ],
      "metadata": {
        "colab": {
          "base_uri": "https://localhost:8080/",
          "height": 300
        },
        "id": "XjVd9-o89hb1",
        "outputId": "66fe60d4-b471-462b-8efd-2811df22544b"
      },
      "execution_count": 90,
      "outputs": [
        {
          "output_type": "execute_result",
          "data": {
            "text/plain": [
              "              sbp     tobacco         ldl   adiposity       typea     obesity  \\\n",
              "count  462.000000  462.000000  462.000000  462.000000  462.000000  462.000000   \n",
              "mean   138.326840    3.635649    4.740325   25.406732   53.103896   26.044113   \n",
              "std     20.496317    4.593024    2.070909    7.780699    9.817534    4.213680   \n",
              "min    101.000000    0.000000    0.980000    6.740000   13.000000   14.700000   \n",
              "25%    124.000000    0.052500    3.282500   19.775000   47.000000   22.985000   \n",
              "50%    134.000000    2.000000    4.340000   26.115000   53.000000   25.805000   \n",
              "75%    148.000000    5.500000    5.790000   31.227500   60.000000   28.497500   \n",
              "max    218.000000   31.200000   15.330000   42.490000   78.000000   46.580000   \n",
              "\n",
              "          alcohol         age  \n",
              "count  462.000000  462.000000  \n",
              "mean    17.044394   42.816017  \n",
              "std     24.481059   14.608956  \n",
              "min      0.000000   15.000000  \n",
              "25%      0.510000   31.000000  \n",
              "50%      7.510000   45.000000  \n",
              "75%     23.892500   55.000000  \n",
              "max    147.190000   64.000000  "
            ],
            "text/html": [
              "\n",
              "  <div id=\"df-e3481a88-4449-466a-a2c8-e1b6fe4f3e47\" class=\"colab-df-container\">\n",
              "    <div>\n",
              "<style scoped>\n",
              "    .dataframe tbody tr th:only-of-type {\n",
              "        vertical-align: middle;\n",
              "    }\n",
              "\n",
              "    .dataframe tbody tr th {\n",
              "        vertical-align: top;\n",
              "    }\n",
              "\n",
              "    .dataframe thead th {\n",
              "        text-align: right;\n",
              "    }\n",
              "</style>\n",
              "<table border=\"1\" class=\"dataframe\">\n",
              "  <thead>\n",
              "    <tr style=\"text-align: right;\">\n",
              "      <th></th>\n",
              "      <th>sbp</th>\n",
              "      <th>tobacco</th>\n",
              "      <th>ldl</th>\n",
              "      <th>adiposity</th>\n",
              "      <th>typea</th>\n",
              "      <th>obesity</th>\n",
              "      <th>alcohol</th>\n",
              "      <th>age</th>\n",
              "    </tr>\n",
              "  </thead>\n",
              "  <tbody>\n",
              "    <tr>\n",
              "      <th>count</th>\n",
              "      <td>462.000000</td>\n",
              "      <td>462.000000</td>\n",
              "      <td>462.000000</td>\n",
              "      <td>462.000000</td>\n",
              "      <td>462.000000</td>\n",
              "      <td>462.000000</td>\n",
              "      <td>462.000000</td>\n",
              "      <td>462.000000</td>\n",
              "    </tr>\n",
              "    <tr>\n",
              "      <th>mean</th>\n",
              "      <td>138.326840</td>\n",
              "      <td>3.635649</td>\n",
              "      <td>4.740325</td>\n",
              "      <td>25.406732</td>\n",
              "      <td>53.103896</td>\n",
              "      <td>26.044113</td>\n",
              "      <td>17.044394</td>\n",
              "      <td>42.816017</td>\n",
              "    </tr>\n",
              "    <tr>\n",
              "      <th>std</th>\n",
              "      <td>20.496317</td>\n",
              "      <td>4.593024</td>\n",
              "      <td>2.070909</td>\n",
              "      <td>7.780699</td>\n",
              "      <td>9.817534</td>\n",
              "      <td>4.213680</td>\n",
              "      <td>24.481059</td>\n",
              "      <td>14.608956</td>\n",
              "    </tr>\n",
              "    <tr>\n",
              "      <th>min</th>\n",
              "      <td>101.000000</td>\n",
              "      <td>0.000000</td>\n",
              "      <td>0.980000</td>\n",
              "      <td>6.740000</td>\n",
              "      <td>13.000000</td>\n",
              "      <td>14.700000</td>\n",
              "      <td>0.000000</td>\n",
              "      <td>15.000000</td>\n",
              "    </tr>\n",
              "    <tr>\n",
              "      <th>25%</th>\n",
              "      <td>124.000000</td>\n",
              "      <td>0.052500</td>\n",
              "      <td>3.282500</td>\n",
              "      <td>19.775000</td>\n",
              "      <td>47.000000</td>\n",
              "      <td>22.985000</td>\n",
              "      <td>0.510000</td>\n",
              "      <td>31.000000</td>\n",
              "    </tr>\n",
              "    <tr>\n",
              "      <th>50%</th>\n",
              "      <td>134.000000</td>\n",
              "      <td>2.000000</td>\n",
              "      <td>4.340000</td>\n",
              "      <td>26.115000</td>\n",
              "      <td>53.000000</td>\n",
              "      <td>25.805000</td>\n",
              "      <td>7.510000</td>\n",
              "      <td>45.000000</td>\n",
              "    </tr>\n",
              "    <tr>\n",
              "      <th>75%</th>\n",
              "      <td>148.000000</td>\n",
              "      <td>5.500000</td>\n",
              "      <td>5.790000</td>\n",
              "      <td>31.227500</td>\n",
              "      <td>60.000000</td>\n",
              "      <td>28.497500</td>\n",
              "      <td>23.892500</td>\n",
              "      <td>55.000000</td>\n",
              "    </tr>\n",
              "    <tr>\n",
              "      <th>max</th>\n",
              "      <td>218.000000</td>\n",
              "      <td>31.200000</td>\n",
              "      <td>15.330000</td>\n",
              "      <td>42.490000</td>\n",
              "      <td>78.000000</td>\n",
              "      <td>46.580000</td>\n",
              "      <td>147.190000</td>\n",
              "      <td>64.000000</td>\n",
              "    </tr>\n",
              "  </tbody>\n",
              "</table>\n",
              "</div>\n",
              "    <div class=\"colab-df-buttons\">\n",
              "\n",
              "  <div class=\"colab-df-container\">\n",
              "    <button class=\"colab-df-convert\" onclick=\"convertToInteractive('df-e3481a88-4449-466a-a2c8-e1b6fe4f3e47')\"\n",
              "            title=\"Convert this dataframe to an interactive table.\"\n",
              "            style=\"display:none;\">\n",
              "\n",
              "  <svg xmlns=\"http://www.w3.org/2000/svg\" height=\"24px\" viewBox=\"0 -960 960 960\">\n",
              "    <path d=\"M120-120v-720h720v720H120Zm60-500h600v-160H180v160Zm220 220h160v-160H400v160Zm0 220h160v-160H400v160ZM180-400h160v-160H180v160Zm440 0h160v-160H620v160ZM180-180h160v-160H180v160Zm440 0h160v-160H620v160Z\"/>\n",
              "  </svg>\n",
              "    </button>\n",
              "\n",
              "  <style>\n",
              "    .colab-df-container {\n",
              "      display:flex;\n",
              "      gap: 12px;\n",
              "    }\n",
              "\n",
              "    .colab-df-convert {\n",
              "      background-color: #E8F0FE;\n",
              "      border: none;\n",
              "      border-radius: 50%;\n",
              "      cursor: pointer;\n",
              "      display: none;\n",
              "      fill: #1967D2;\n",
              "      height: 32px;\n",
              "      padding: 0 0 0 0;\n",
              "      width: 32px;\n",
              "    }\n",
              "\n",
              "    .colab-df-convert:hover {\n",
              "      background-color: #E2EBFA;\n",
              "      box-shadow: 0px 1px 2px rgba(60, 64, 67, 0.3), 0px 1px 3px 1px rgba(60, 64, 67, 0.15);\n",
              "      fill: #174EA6;\n",
              "    }\n",
              "\n",
              "    .colab-df-buttons div {\n",
              "      margin-bottom: 4px;\n",
              "    }\n",
              "\n",
              "    [theme=dark] .colab-df-convert {\n",
              "      background-color: #3B4455;\n",
              "      fill: #D2E3FC;\n",
              "    }\n",
              "\n",
              "    [theme=dark] .colab-df-convert:hover {\n",
              "      background-color: #434B5C;\n",
              "      box-shadow: 0px 1px 3px 1px rgba(0, 0, 0, 0.15);\n",
              "      filter: drop-shadow(0px 1px 2px rgba(0, 0, 0, 0.3));\n",
              "      fill: #FFFFFF;\n",
              "    }\n",
              "  </style>\n",
              "\n",
              "    <script>\n",
              "      const buttonEl =\n",
              "        document.querySelector('#df-e3481a88-4449-466a-a2c8-e1b6fe4f3e47 button.colab-df-convert');\n",
              "      buttonEl.style.display =\n",
              "        google.colab.kernel.accessAllowed ? 'block' : 'none';\n",
              "\n",
              "      async function convertToInteractive(key) {\n",
              "        const element = document.querySelector('#df-e3481a88-4449-466a-a2c8-e1b6fe4f3e47');\n",
              "        const dataTable =\n",
              "          await google.colab.kernel.invokeFunction('convertToInteractive',\n",
              "                                                    [key], {});\n",
              "        if (!dataTable) return;\n",
              "\n",
              "        const docLinkHtml = 'Like what you see? Visit the ' +\n",
              "          '<a target=\"_blank\" href=https://colab.research.google.com/notebooks/data_table.ipynb>data table notebook</a>'\n",
              "          + ' to learn more about interactive tables.';\n",
              "        element.innerHTML = '';\n",
              "        dataTable['output_type'] = 'display_data';\n",
              "        await google.colab.output.renderOutput(dataTable, element);\n",
              "        const docLink = document.createElement('div');\n",
              "        docLink.innerHTML = docLinkHtml;\n",
              "        element.appendChild(docLink);\n",
              "      }\n",
              "    </script>\n",
              "  </div>\n",
              "\n",
              "\n",
              "<div id=\"df-5db9235f-fb38-45d5-83ab-92f6a7b9a4f9\">\n",
              "  <button class=\"colab-df-quickchart\" onclick=\"quickchart('df-5db9235f-fb38-45d5-83ab-92f6a7b9a4f9')\"\n",
              "            title=\"Suggest charts\"\n",
              "            style=\"display:none;\">\n",
              "\n",
              "<svg xmlns=\"http://www.w3.org/2000/svg\" height=\"24px\"viewBox=\"0 0 24 24\"\n",
              "     width=\"24px\">\n",
              "    <g>\n",
              "        <path d=\"M19 3H5c-1.1 0-2 .9-2 2v14c0 1.1.9 2 2 2h14c1.1 0 2-.9 2-2V5c0-1.1-.9-2-2-2zM9 17H7v-7h2v7zm4 0h-2V7h2v10zm4 0h-2v-4h2v4z\"/>\n",
              "    </g>\n",
              "</svg>\n",
              "  </button>\n",
              "\n",
              "<style>\n",
              "  .colab-df-quickchart {\n",
              "      --bg-color: #E8F0FE;\n",
              "      --fill-color: #1967D2;\n",
              "      --hover-bg-color: #E2EBFA;\n",
              "      --hover-fill-color: #174EA6;\n",
              "      --disabled-fill-color: #AAA;\n",
              "      --disabled-bg-color: #DDD;\n",
              "  }\n",
              "\n",
              "  [theme=dark] .colab-df-quickchart {\n",
              "      --bg-color: #3B4455;\n",
              "      --fill-color: #D2E3FC;\n",
              "      --hover-bg-color: #434B5C;\n",
              "      --hover-fill-color: #FFFFFF;\n",
              "      --disabled-bg-color: #3B4455;\n",
              "      --disabled-fill-color: #666;\n",
              "  }\n",
              "\n",
              "  .colab-df-quickchart {\n",
              "    background-color: var(--bg-color);\n",
              "    border: none;\n",
              "    border-radius: 50%;\n",
              "    cursor: pointer;\n",
              "    display: none;\n",
              "    fill: var(--fill-color);\n",
              "    height: 32px;\n",
              "    padding: 0;\n",
              "    width: 32px;\n",
              "  }\n",
              "\n",
              "  .colab-df-quickchart:hover {\n",
              "    background-color: var(--hover-bg-color);\n",
              "    box-shadow: 0 1px 2px rgba(60, 64, 67, 0.3), 0 1px 3px 1px rgba(60, 64, 67, 0.15);\n",
              "    fill: var(--button-hover-fill-color);\n",
              "  }\n",
              "\n",
              "  .colab-df-quickchart-complete:disabled,\n",
              "  .colab-df-quickchart-complete:disabled:hover {\n",
              "    background-color: var(--disabled-bg-color);\n",
              "    fill: var(--disabled-fill-color);\n",
              "    box-shadow: none;\n",
              "  }\n",
              "\n",
              "  .colab-df-spinner {\n",
              "    border: 2px solid var(--fill-color);\n",
              "    border-color: transparent;\n",
              "    border-bottom-color: var(--fill-color);\n",
              "    animation:\n",
              "      spin 1s steps(1) infinite;\n",
              "  }\n",
              "\n",
              "  @keyframes spin {\n",
              "    0% {\n",
              "      border-color: transparent;\n",
              "      border-bottom-color: var(--fill-color);\n",
              "      border-left-color: var(--fill-color);\n",
              "    }\n",
              "    20% {\n",
              "      border-color: transparent;\n",
              "      border-left-color: var(--fill-color);\n",
              "      border-top-color: var(--fill-color);\n",
              "    }\n",
              "    30% {\n",
              "      border-color: transparent;\n",
              "      border-left-color: var(--fill-color);\n",
              "      border-top-color: var(--fill-color);\n",
              "      border-right-color: var(--fill-color);\n",
              "    }\n",
              "    40% {\n",
              "      border-color: transparent;\n",
              "      border-right-color: var(--fill-color);\n",
              "      border-top-color: var(--fill-color);\n",
              "    }\n",
              "    60% {\n",
              "      border-color: transparent;\n",
              "      border-right-color: var(--fill-color);\n",
              "    }\n",
              "    80% {\n",
              "      border-color: transparent;\n",
              "      border-right-color: var(--fill-color);\n",
              "      border-bottom-color: var(--fill-color);\n",
              "    }\n",
              "    90% {\n",
              "      border-color: transparent;\n",
              "      border-bottom-color: var(--fill-color);\n",
              "    }\n",
              "  }\n",
              "</style>\n",
              "\n",
              "  <script>\n",
              "    async function quickchart(key) {\n",
              "      const quickchartButtonEl =\n",
              "        document.querySelector('#' + key + ' button');\n",
              "      quickchartButtonEl.disabled = true;  // To prevent multiple clicks.\n",
              "      quickchartButtonEl.classList.add('colab-df-spinner');\n",
              "      try {\n",
              "        const charts = await google.colab.kernel.invokeFunction(\n",
              "            'suggestCharts', [key], {});\n",
              "      } catch (error) {\n",
              "        console.error('Error during call to suggestCharts:', error);\n",
              "      }\n",
              "      quickchartButtonEl.classList.remove('colab-df-spinner');\n",
              "      quickchartButtonEl.classList.add('colab-df-quickchart-complete');\n",
              "    }\n",
              "    (() => {\n",
              "      let quickchartButtonEl =\n",
              "        document.querySelector('#df-5db9235f-fb38-45d5-83ab-92f6a7b9a4f9 button');\n",
              "      quickchartButtonEl.style.display =\n",
              "        google.colab.kernel.accessAllowed ? 'block' : 'none';\n",
              "    })();\n",
              "  </script>\n",
              "</div>\n",
              "\n",
              "    </div>\n",
              "  </div>\n"
            ],
            "application/vnd.google.colaboratory.intrinsic+json": {
              "type": "dataframe",
              "summary": "{\n  \"name\": \"datos_heart\",\n  \"rows\": 8,\n  \"fields\": [\n    {\n      \"column\": \"sbp\",\n      \"properties\": {\n        \"dtype\": \"number\",\n        \"std\": 130.68742282570946,\n        \"min\": 20.496317175467627,\n        \"max\": 462.0,\n        \"num_unique_values\": 8,\n        \"samples\": [\n          138.32683982683983,\n          134.0,\n          462.0\n        ],\n        \"semantic_type\": \"\",\n        \"description\": \"\"\n      }\n    },\n    {\n      \"column\": \"tobacco\",\n      \"properties\": {\n        \"dtype\": \"number\",\n        \"std\": 161.29089833920912,\n        \"min\": 0.0,\n        \"max\": 462.0,\n        \"num_unique_values\": 8,\n        \"samples\": [\n          3.635649350649351,\n          2.0,\n          462.0\n        ],\n        \"semantic_type\": \"\",\n        \"description\": \"\"\n      }\n    },\n    {\n      \"column\": \"ldl\",\n      \"properties\": {\n        \"dtype\": \"number\",\n        \"std\": 161.55621652160278,\n        \"min\": 0.98,\n        \"max\": 462.0,\n        \"num_unique_values\": 8,\n        \"samples\": [\n          4.740324675324675,\n          4.34,\n          462.0\n        ],\n        \"semantic_type\": \"\",\n        \"description\": \"\"\n      }\n    },\n    {\n      \"column\": \"adiposity\",\n      \"properties\": {\n        \"dtype\": \"number\",\n        \"std\": 155.72909669661666,\n        \"min\": 6.74,\n        \"max\": 462.0,\n        \"num_unique_values\": 8,\n        \"samples\": [\n          25.4067316017316,\n          26.115000000000002,\n          462.0\n        ],\n        \"semantic_type\": \"\",\n        \"description\": \"\"\n      }\n    },\n    {\n      \"column\": \"typea\",\n      \"properties\": {\n        \"dtype\": \"number\",\n        \"std\": 149.27187541208806,\n        \"min\": 9.817534115584083,\n        \"max\": 462.0,\n        \"num_unique_values\": 8,\n        \"samples\": [\n          53.103896103896105,\n          53.0,\n          462.0\n        ],\n        \"semantic_type\": \"\",\n        \"description\": \"\"\n      }\n    },\n    {\n      \"column\": \"obesity\",\n      \"properties\": {\n        \"dtype\": \"number\",\n        \"std\": 155.28296029438135,\n        \"min\": 4.213680226897765,\n        \"max\": 462.0,\n        \"num_unique_values\": 8,\n        \"samples\": [\n          26.04411255411255,\n          25.805,\n          462.0\n        ],\n        \"semantic_type\": \"\",\n        \"description\": \"\"\n      }\n    },\n    {\n      \"column\": \"alcohol\",\n      \"properties\": {\n        \"dtype\": \"number\",\n        \"std\": 159.63289414041645,\n        \"min\": 0.0,\n        \"max\": 462.0,\n        \"num_unique_values\": 8,\n        \"samples\": [\n          17.044393939393935,\n          7.51,\n          462.0\n        ],\n        \"semantic_type\": \"\",\n        \"description\": \"\"\n      }\n    },\n    {\n      \"column\": \"age\",\n      \"properties\": {\n        \"dtype\": \"number\",\n        \"std\": 150.86182604527482,\n        \"min\": 14.60895644455249,\n        \"max\": 462.0,\n        \"num_unique_values\": 8,\n        \"samples\": [\n          42.816017316017316,\n          45.0,\n          462.0\n        ],\n        \"semantic_type\": \"\",\n        \"description\": \"\"\n      }\n    }\n  ]\n}"
            }
          },
          "metadata": {},
          "execution_count": 90
        }
      ]
    },
    {
      "cell_type": "code",
      "source": [
        "datos_heart.info()"
      ],
      "metadata": {
        "colab": {
          "base_uri": "https://localhost:8080/"
        },
        "id": "bgJyxeHI9teM",
        "outputId": "372b49ee-b4c2-4aa1-a96f-a22561f7a98b"
      },
      "execution_count": 91,
      "outputs": [
        {
          "output_type": "stream",
          "name": "stdout",
          "text": [
            "<class 'pandas.core.frame.DataFrame'>\n",
            "RangeIndex: 462 entries, 0 to 461\n",
            "Data columns (total 10 columns):\n",
            " #   Column     Non-Null Count  Dtype  \n",
            "---  ------     --------------  -----  \n",
            " 0   sbp        462 non-null    int64  \n",
            " 1   tobacco    462 non-null    float64\n",
            " 2   ldl        462 non-null    float64\n",
            " 3   adiposity  462 non-null    float64\n",
            " 4   famhist    462 non-null    object \n",
            " 5   typea      462 non-null    int64  \n",
            " 6   obesity    462 non-null    float64\n",
            " 7   alcohol    462 non-null    float64\n",
            " 8   age        462 non-null    int64  \n",
            " 9   chd        462 non-null    object \n",
            "dtypes: float64(5), int64(3), object(2)\n",
            "memory usage: 36.2+ KB\n"
          ]
        }
      ]
    },
    {
      "cell_type": "code",
      "source": [
        "#Correlación entre las variables tobacco y alcohol.\n",
        "correlacion = datos_heart[\"tobacco\"].corr(datos_heart[\"alcohol\"])\n",
        "print(\"Correlación entre tobacco y alcohol:\", correlacion)"
      ],
      "metadata": {
        "colab": {
          "base_uri": "https://localhost:8080/"
        },
        "id": "T2DhDV-h9x7V",
        "outputId": "9fb94c0c-5c7d-47a9-81c4-3e996155ce24"
      },
      "execution_count": 93,
      "outputs": [
        {
          "output_type": "stream",
          "name": "stdout",
          "text": [
            "Correlación entre tobacco y alcohol: 0.20081339040839785\n"
          ]
        }
      ]
    },
    {
      "cell_type": "code",
      "source": [
        "#Calcule la suma de las columnas con variables cuantitativas (numéricas).\n",
        "cuantitativas = datos_heart.select_dtypes(include=['number'])\n",
        "suma_cuantitativas = cuantitativas.sum()\n",
        "print(\"Suma de las columnas cuantitativas:\")\n",
        "print(suma_cuantitativas)"
      ],
      "metadata": {
        "colab": {
          "base_uri": "https://localhost:8080/"
        },
        "id": "l430RjtP-m2R",
        "outputId": "a45279f4-5d90-401c-aa06-6cc6f28f8437"
      },
      "execution_count": 94,
      "outputs": [
        {
          "output_type": "stream",
          "name": "stdout",
          "text": [
            "Suma de las columnas cuantitativas:\n",
            "sbp          63907.00\n",
            "tobacco       1679.67\n",
            "ldl           2190.03\n",
            "adiposity    11737.91\n",
            "typea        24534.00\n",
            "obesity      12032.38\n",
            "alcohol       7874.51\n",
            "age          19781.00\n",
            "dtype: float64\n"
          ]
        }
      ]
    },
    {
      "cell_type": "code",
      "source": [
        "#Calcule para todas las variables cuantitativas presentes en el archivo SAheart.csv: El mínimo, el máximo, la media, la mediana\n",
        "#y para la variables chd determine la cantidad de Si y de No.\n",
        "\n",
        "estadisticas = {\n",
        "    \"Minimo\": cuantitativas.min(),\n",
        "    \"Maximo\": cuantitativas.max(),\n",
        "    \"Media\": cuantitativas.mean(),\n",
        "    \"Mediana\": cuantitativas.median(),\n",
        "}\n",
        "\n",
        "estadisticas_df = pd.DataFrame(estadisticas)\n",
        "print(\"Estadísticas de las variables cuantitativas:\")\n",
        "print(estadisticas_df)\n",
        "\n",
        "if \"chd\" in datos_heart.columns:\n",
        "    conteo_chd = datos_heart[\"chd\"].value_counts()\n",
        "    print(\"\\nCantidad de Si y No en la variable CHD:\")\n",
        "    print(conteo_chd)\n",
        "else:\n",
        "    print(\"\\nLa variable chd no está presente en el DataFrame.\")"
      ],
      "metadata": {
        "colab": {
          "base_uri": "https://localhost:8080/"
        },
        "id": "m-cZasyF_A2a",
        "outputId": "166f7325-89a0-4113-85ba-5879050a4dae"
      },
      "execution_count": 95,
      "outputs": [
        {
          "output_type": "stream",
          "name": "stdout",
          "text": [
            "Estadísticas de las variables cuantitativas:\n",
            "           Minimo  Maximo       Media  Mediana\n",
            "sbp        101.00  218.00  138.326840  134.000\n",
            "tobacco      0.00   31.20    3.635649    2.000\n",
            "ldl          0.98   15.33    4.740325    4.340\n",
            "adiposity    6.74   42.49   25.406732   26.115\n",
            "typea       13.00   78.00   53.103896   53.000\n",
            "obesity     14.70   46.58   26.044113   25.805\n",
            "alcohol      0.00  147.19   17.044394    7.510\n",
            "age         15.00   64.00   42.816017   45.000\n",
            "\n",
            "Cantidad de Si y No en la variable CHD:\n",
            "chd\n",
            "No    302\n",
            "Si    160\n",
            "Name: count, dtype: int64\n"
          ]
        }
      ]
    },
    {
      "cell_type": "code",
      "source": [
        "#Ejercicio 13\n",
        "#Función que genera 200 números al azar entre 1 y 500 y luego calcula cuántos están entre el 50 y 450, ambos inclusive.\n",
        "def generar_y_contar_numeros():\n",
        "    numeros = np.random.randint(1, 501, 200)\n",
        "    conteo = np.sum((numeros >= 50) & (numeros <= 450))\n",
        "    return conteo\n",
        "\n",
        "resultado = generar_y_contar_numeros()\n",
        "print(\"Cantidad de números entre 50 y 450:\", resultado)"
      ],
      "metadata": {
        "colab": {
          "base_uri": "https://localhost:8080/"
        },
        "id": "7QF0-tKl_0Gt",
        "outputId": "e40b50fb-eaa7-47bf-ea41-846f5b8826d5"
      },
      "execution_count": 96,
      "outputs": [
        {
          "output_type": "stream",
          "name": "stdout",
          "text": [
            "Cantidad de números entre 50 y 450: 168\n"
          ]
        }
      ]
    },
    {
      "cell_type": "code",
      "source": [
        "#Ejercicio 14\n",
        "#Función que calcula el costo de una llamada telefónica que ha durado t minutos sabiendo que si t < 1 el costo es de 0,4 dólares,\n",
        "#mientras que para duraciones superiores el costo es de 0,4 + (t − 1)/4 dólares, la función debe recibir el valor de t.\n",
        "\n",
        "def calcular_costo_llamada(t):\n",
        "    if t < 1:\n",
        "        costo = 0.4\n",
        "    else:\n",
        "        costo = 0.4 + (t - 1) / 4\n",
        "    return costo\n",
        "\n",
        "resultado = calcular_costo_llamada(2)\n",
        "print(\"Costo de la llamada:\", resultado)"
      ],
      "metadata": {
        "colab": {
          "base_uri": "https://localhost:8080/"
        },
        "id": "IdUuaFtjB96E",
        "outputId": "85abbfab-11d2-49f7-f1ef-adb34b1dc422"
      },
      "execution_count": 99,
      "outputs": [
        {
          "output_type": "stream",
          "name": "stdout",
          "text": [
            "Costo de la llamada: 0.65\n"
          ]
        }
      ]
    },
    {
      "cell_type": "code",
      "source": [
        "#Ejercicio 15\n",
        "#Función que recibe una matriz cuadrada A de tamaño n × n y calcula su traza, es decir, la suma de los elementos de la diagonal.\n",
        "\n",
        "def calcular_traza(A):\n",
        "    n = len(A)\n",
        "    traza = sum(A[i][i] for i in range(n))\n",
        "    return traza\n",
        "\n",
        "matriz = np.array([[9, 3, 4], [1, 3, -1], [4, 12, -2]])\n",
        "resultado = calcular_traza(matriz)\n",
        "print(\"Traza de la matriz:\", resultado)"
      ],
      "metadata": {
        "colab": {
          "base_uri": "https://localhost:8080/"
        },
        "id": "voG8lXi4Cj2I",
        "outputId": "42e2bd07-5b2a-4f9e-85cb-afb0bbd08371"
      },
      "execution_count": 100,
      "outputs": [
        {
          "output_type": "stream",
          "name": "stdout",
          "text": [
            "Traza de la matriz: 10\n"
          ]
        }
      ]
    },
    {
      "cell_type": "code",
      "source": [
        "#Ejercicio 16\n",
        "#Función que genere los n primeros términos de la serie de Fibonacci.\n",
        "def fibonacci(n):\n",
        "    if n <= 0:\n",
        "        return []\n",
        "    elif n == 1:\n",
        "        return [0]\n",
        "\n",
        "    fib_sequence = [0, 1]\n",
        "    while len(fib_sequence) < n:\n",
        "        next_term = fib_sequence[-1] + fib_sequence[-2]\n",
        "        fib_sequence.append(next_term)\n",
        "    return fib_sequence\n",
        "\n",
        "# Número de términos que queremos\n",
        "n = 10\n",
        "resultado = fibonacci(n)\n",
        "print(\"Los primeros 10 términos de la serie de Fibonacci son:\", resultado)\n"
      ],
      "metadata": {
        "colab": {
          "base_uri": "https://localhost:8080/"
        },
        "id": "VofLSXa5C8iJ",
        "outputId": "c1d7bbb0-58c7-42fb-a84f-b8379c136c69"
      },
      "execution_count": 104,
      "outputs": [
        {
          "output_type": "stream",
          "name": "stdout",
          "text": [
            "Los primeros 10 términos de la serie de Fibonacci son: [0, 1, 1, 2, 3, 5, 8, 13, 21, 34]\n"
          ]
        }
      ]
    },
    {
      "cell_type": "code",
      "source": [
        "#Ejercicio 17\n",
        "#Función que retorne cuál es el mayor número entero cuyo cuadrado no excede de x\n",
        "#donde x es un número real que se recibe como parámetro, utilizando while.\n",
        "\n",
        "def mayor_cuadrado_menor_x(x):\n",
        "    i = 0\n",
        "    while i**2 <= x:\n",
        "        mayor_cuadrado = i\n",
        "        i += 1\n",
        "    return mayor_cuadrado\n",
        "\n",
        "resultado = mayor_cuadrado_menor_x(20)\n",
        "print(\"El mayor número entero cuyo cuadrado es menor o igual a 100 es:\", resultado)"
      ],
      "metadata": {
        "colab": {
          "base_uri": "https://localhost:8080/"
        },
        "id": "41639ZT8EHHM",
        "outputId": "0cc98a3b-77a8-4e6d-f1d7-c7dbb3acbf9c"
      },
      "execution_count": 105,
      "outputs": [
        {
          "output_type": "stream",
          "name": "stdout",
          "text": [
            "El mayor número entero cuyo cuadrado es menor o igual a 100 es: 4\n"
          ]
        }
      ]
    },
    {
      "cell_type": "code",
      "source": [
        "#Ejercicio 20\n",
        "#Función que recibe un DataFrame y dos números de columna y que retorna en una lista el nombre de las variables correspondientes\n",
        "# las columnas, la covarianza y la correlación entre esas dos variables.\n",
        "\n",
        "def covarianza_correlacion(df, col1_index, col2_index):\n",
        "    if col1_index < 0 or col1_index >= df.shape[1] or col2_index < 0 or col2_index >= df.shape[1]:\n",
        "        return None\n",
        "\n",
        "    col1_name = df.columns[col1_index]\n",
        "    col2_name = df.columns[col2_index]\n",
        "\n",
        "    covarianza = df[col1_name].cov(df[col2_name])\n",
        "    correlacion = df[col1_name].corr(df[col2_name])\n",
        "\n",
        "    return [col1_name, col2_name, covarianza, correlacion]\n",
        "\n",
        "df_prueba = pd.DataFrame({\"altura\": [1.65, 1.70, 1.80, 1.75, 1.60],\n",
        "                          \"peso\": [55, 60, 75, 70, 50],\n",
        "                          \"edad\": [22, 23, 24, 21, 20]})\n",
        "\n",
        "resultado = covarianza_correlacion(df_prueba, 0, 1)\n",
        "print(\"Resultado de la función covarianza_correlacion:\", resultado)"
      ],
      "metadata": {
        "colab": {
          "base_uri": "https://localhost:8080/"
        },
        "id": "cYxTMFwyEaaE",
        "outputId": "06fc61e9-9f74-4138-8394-4fc196649ef9"
      },
      "execution_count": 106,
      "outputs": [
        {
          "output_type": "stream",
          "name": "stdout",
          "text": [
            "Resultado de la función covarianza_correlacion: ['altura', 'peso', 0.8125, 0.9912407071619304]\n"
          ]
        }
      ]
    },
    {
      "cell_type": "code",
      "source": [
        "#Ejercicio 21\n",
        "#Importe directamente desde Excel el archivo EjemploAlgoritmosRecomendación.xlsx el cual contiene los promedios de evaluación\n",
        "#de 100 personas que adquirieron los mismos productos o muy similares en la tienda AMAZON. Luego ejecute un describe(…) y un info(…)\n",
        "#con esta tabla de datos\n",
        "\n",
        "datos_excel = pd.read_excel(\"EjemploAlgoritmosRecomendacion.xlsx\")\n",
        "print(datos_excel.columns)\n",
        "\n",
        "datos_excel.describe()"
      ],
      "metadata": {
        "colab": {
          "base_uri": "https://localhost:8080/",
          "height": 407
        },
        "id": "0cyXtjLLF_MJ",
        "outputId": "c1961a36-4d9a-44e5-c1d5-27e4f8e8be80"
      },
      "execution_count": 107,
      "outputs": [
        {
          "output_type": "stream",
          "name": "stdout",
          "text": [
            "Index(['Unnamed: 0', 'Velocidad Entrega', 'Precio', 'Durabilidad',\n",
            "       'Imagen Producto', 'Valor Educativo', 'Servicio Retorno',\n",
            "       'Tamano Paquete', 'Calidad Producto', 'Numero Estrellas'],\n",
            "      dtype='object')\n"
          ]
        },
        {
          "output_type": "execute_result",
          "data": {
            "text/plain": [
              "       Velocidad Entrega      Precio  Durabilidad  Imagen Producto  \\\n",
              "count         100.000000  100.000000   100.000000       100.000000   \n",
              "mean            1.757500    1.182000     3.947000         2.624000   \n",
              "std             0.660363    0.597829     0.693251         0.565707   \n",
              "min             0.000000    0.100000     2.500000         1.250000   \n",
              "25%             1.250000    0.737500     3.350000         2.287500   \n",
              "50%             1.700000    1.075000     4.025000         2.500000   \n",
              "75%             2.300000    1.612500     4.550000         3.000000   \n",
              "max             3.050000    2.700000     5.000000         4.100000   \n",
              "\n",
              "       Valor Educativo  Servicio Retorno  Tamano Paquete  Calidad Producto  \\\n",
              "count       100.000000        100.000000       100.00000        100.000000   \n",
              "mean          2.916000          2.665000         3.48550          2.385500   \n",
              "std           0.751258          0.770855         0.79262          0.427779   \n",
              "min           0.700000          1.100000         1.85000          1.600000   \n",
              "25%           2.400000          2.200000         2.90000          2.050000   \n",
              "50%           3.000000          2.600000         3.57500          2.425000   \n",
              "75%           3.425000          3.000000         4.16250          2.700000   \n",
              "max           4.600000          4.600000         5.00000          3.400000   \n",
              "\n",
              "       Numero Estrellas  \n",
              "count        100.000000  \n",
              "mean           3.110000  \n",
              "std            0.898877  \n",
              "min            1.000000  \n",
              "25%            2.400000  \n",
              "50%            3.150000  \n",
              "75%            3.825000  \n",
              "max            5.000000  "
            ],
            "text/html": [
              "\n",
              "  <div id=\"df-242791ed-a4be-47c0-a011-08837b9fe468\" class=\"colab-df-container\">\n",
              "    <div>\n",
              "<style scoped>\n",
              "    .dataframe tbody tr th:only-of-type {\n",
              "        vertical-align: middle;\n",
              "    }\n",
              "\n",
              "    .dataframe tbody tr th {\n",
              "        vertical-align: top;\n",
              "    }\n",
              "\n",
              "    .dataframe thead th {\n",
              "        text-align: right;\n",
              "    }\n",
              "</style>\n",
              "<table border=\"1\" class=\"dataframe\">\n",
              "  <thead>\n",
              "    <tr style=\"text-align: right;\">\n",
              "      <th></th>\n",
              "      <th>Velocidad Entrega</th>\n",
              "      <th>Precio</th>\n",
              "      <th>Durabilidad</th>\n",
              "      <th>Imagen Producto</th>\n",
              "      <th>Valor Educativo</th>\n",
              "      <th>Servicio Retorno</th>\n",
              "      <th>Tamano Paquete</th>\n",
              "      <th>Calidad Producto</th>\n",
              "      <th>Numero Estrellas</th>\n",
              "    </tr>\n",
              "  </thead>\n",
              "  <tbody>\n",
              "    <tr>\n",
              "      <th>count</th>\n",
              "      <td>100.000000</td>\n",
              "      <td>100.000000</td>\n",
              "      <td>100.000000</td>\n",
              "      <td>100.000000</td>\n",
              "      <td>100.000000</td>\n",
              "      <td>100.000000</td>\n",
              "      <td>100.00000</td>\n",
              "      <td>100.000000</td>\n",
              "      <td>100.000000</td>\n",
              "    </tr>\n",
              "    <tr>\n",
              "      <th>mean</th>\n",
              "      <td>1.757500</td>\n",
              "      <td>1.182000</td>\n",
              "      <td>3.947000</td>\n",
              "      <td>2.624000</td>\n",
              "      <td>2.916000</td>\n",
              "      <td>2.665000</td>\n",
              "      <td>3.48550</td>\n",
              "      <td>2.385500</td>\n",
              "      <td>3.110000</td>\n",
              "    </tr>\n",
              "    <tr>\n",
              "      <th>std</th>\n",
              "      <td>0.660363</td>\n",
              "      <td>0.597829</td>\n",
              "      <td>0.693251</td>\n",
              "      <td>0.565707</td>\n",
              "      <td>0.751258</td>\n",
              "      <td>0.770855</td>\n",
              "      <td>0.79262</td>\n",
              "      <td>0.427779</td>\n",
              "      <td>0.898877</td>\n",
              "    </tr>\n",
              "    <tr>\n",
              "      <th>min</th>\n",
              "      <td>0.000000</td>\n",
              "      <td>0.100000</td>\n",
              "      <td>2.500000</td>\n",
              "      <td>1.250000</td>\n",
              "      <td>0.700000</td>\n",
              "      <td>1.100000</td>\n",
              "      <td>1.85000</td>\n",
              "      <td>1.600000</td>\n",
              "      <td>1.000000</td>\n",
              "    </tr>\n",
              "    <tr>\n",
              "      <th>25%</th>\n",
              "      <td>1.250000</td>\n",
              "      <td>0.737500</td>\n",
              "      <td>3.350000</td>\n",
              "      <td>2.287500</td>\n",
              "      <td>2.400000</td>\n",
              "      <td>2.200000</td>\n",
              "      <td>2.90000</td>\n",
              "      <td>2.050000</td>\n",
              "      <td>2.400000</td>\n",
              "    </tr>\n",
              "    <tr>\n",
              "      <th>50%</th>\n",
              "      <td>1.700000</td>\n",
              "      <td>1.075000</td>\n",
              "      <td>4.025000</td>\n",
              "      <td>2.500000</td>\n",
              "      <td>3.000000</td>\n",
              "      <td>2.600000</td>\n",
              "      <td>3.57500</td>\n",
              "      <td>2.425000</td>\n",
              "      <td>3.150000</td>\n",
              "    </tr>\n",
              "    <tr>\n",
              "      <th>75%</th>\n",
              "      <td>2.300000</td>\n",
              "      <td>1.612500</td>\n",
              "      <td>4.550000</td>\n",
              "      <td>3.000000</td>\n",
              "      <td>3.425000</td>\n",
              "      <td>3.000000</td>\n",
              "      <td>4.16250</td>\n",
              "      <td>2.700000</td>\n",
              "      <td>3.825000</td>\n",
              "    </tr>\n",
              "    <tr>\n",
              "      <th>max</th>\n",
              "      <td>3.050000</td>\n",
              "      <td>2.700000</td>\n",
              "      <td>5.000000</td>\n",
              "      <td>4.100000</td>\n",
              "      <td>4.600000</td>\n",
              "      <td>4.600000</td>\n",
              "      <td>5.00000</td>\n",
              "      <td>3.400000</td>\n",
              "      <td>5.000000</td>\n",
              "    </tr>\n",
              "  </tbody>\n",
              "</table>\n",
              "</div>\n",
              "    <div class=\"colab-df-buttons\">\n",
              "\n",
              "  <div class=\"colab-df-container\">\n",
              "    <button class=\"colab-df-convert\" onclick=\"convertToInteractive('df-242791ed-a4be-47c0-a011-08837b9fe468')\"\n",
              "            title=\"Convert this dataframe to an interactive table.\"\n",
              "            style=\"display:none;\">\n",
              "\n",
              "  <svg xmlns=\"http://www.w3.org/2000/svg\" height=\"24px\" viewBox=\"0 -960 960 960\">\n",
              "    <path d=\"M120-120v-720h720v720H120Zm60-500h600v-160H180v160Zm220 220h160v-160H400v160Zm0 220h160v-160H400v160ZM180-400h160v-160H180v160Zm440 0h160v-160H620v160ZM180-180h160v-160H180v160Zm440 0h160v-160H620v160Z\"/>\n",
              "  </svg>\n",
              "    </button>\n",
              "\n",
              "  <style>\n",
              "    .colab-df-container {\n",
              "      display:flex;\n",
              "      gap: 12px;\n",
              "    }\n",
              "\n",
              "    .colab-df-convert {\n",
              "      background-color: #E8F0FE;\n",
              "      border: none;\n",
              "      border-radius: 50%;\n",
              "      cursor: pointer;\n",
              "      display: none;\n",
              "      fill: #1967D2;\n",
              "      height: 32px;\n",
              "      padding: 0 0 0 0;\n",
              "      width: 32px;\n",
              "    }\n",
              "\n",
              "    .colab-df-convert:hover {\n",
              "      background-color: #E2EBFA;\n",
              "      box-shadow: 0px 1px 2px rgba(60, 64, 67, 0.3), 0px 1px 3px 1px rgba(60, 64, 67, 0.15);\n",
              "      fill: #174EA6;\n",
              "    }\n",
              "\n",
              "    .colab-df-buttons div {\n",
              "      margin-bottom: 4px;\n",
              "    }\n",
              "\n",
              "    [theme=dark] .colab-df-convert {\n",
              "      background-color: #3B4455;\n",
              "      fill: #D2E3FC;\n",
              "    }\n",
              "\n",
              "    [theme=dark] .colab-df-convert:hover {\n",
              "      background-color: #434B5C;\n",
              "      box-shadow: 0px 1px 3px 1px rgba(0, 0, 0, 0.15);\n",
              "      filter: drop-shadow(0px 1px 2px rgba(0, 0, 0, 0.3));\n",
              "      fill: #FFFFFF;\n",
              "    }\n",
              "  </style>\n",
              "\n",
              "    <script>\n",
              "      const buttonEl =\n",
              "        document.querySelector('#df-242791ed-a4be-47c0-a011-08837b9fe468 button.colab-df-convert');\n",
              "      buttonEl.style.display =\n",
              "        google.colab.kernel.accessAllowed ? 'block' : 'none';\n",
              "\n",
              "      async function convertToInteractive(key) {\n",
              "        const element = document.querySelector('#df-242791ed-a4be-47c0-a011-08837b9fe468');\n",
              "        const dataTable =\n",
              "          await google.colab.kernel.invokeFunction('convertToInteractive',\n",
              "                                                    [key], {});\n",
              "        if (!dataTable) return;\n",
              "\n",
              "        const docLinkHtml = 'Like what you see? Visit the ' +\n",
              "          '<a target=\"_blank\" href=https://colab.research.google.com/notebooks/data_table.ipynb>data table notebook</a>'\n",
              "          + ' to learn more about interactive tables.';\n",
              "        element.innerHTML = '';\n",
              "        dataTable['output_type'] = 'display_data';\n",
              "        await google.colab.output.renderOutput(dataTable, element);\n",
              "        const docLink = document.createElement('div');\n",
              "        docLink.innerHTML = docLinkHtml;\n",
              "        element.appendChild(docLink);\n",
              "      }\n",
              "    </script>\n",
              "  </div>\n",
              "\n",
              "\n",
              "<div id=\"df-89792559-93c6-4903-9101-f531f26d24a2\">\n",
              "  <button class=\"colab-df-quickchart\" onclick=\"quickchart('df-89792559-93c6-4903-9101-f531f26d24a2')\"\n",
              "            title=\"Suggest charts\"\n",
              "            style=\"display:none;\">\n",
              "\n",
              "<svg xmlns=\"http://www.w3.org/2000/svg\" height=\"24px\"viewBox=\"0 0 24 24\"\n",
              "     width=\"24px\">\n",
              "    <g>\n",
              "        <path d=\"M19 3H5c-1.1 0-2 .9-2 2v14c0 1.1.9 2 2 2h14c1.1 0 2-.9 2-2V5c0-1.1-.9-2-2-2zM9 17H7v-7h2v7zm4 0h-2V7h2v10zm4 0h-2v-4h2v4z\"/>\n",
              "    </g>\n",
              "</svg>\n",
              "  </button>\n",
              "\n",
              "<style>\n",
              "  .colab-df-quickchart {\n",
              "      --bg-color: #E8F0FE;\n",
              "      --fill-color: #1967D2;\n",
              "      --hover-bg-color: #E2EBFA;\n",
              "      --hover-fill-color: #174EA6;\n",
              "      --disabled-fill-color: #AAA;\n",
              "      --disabled-bg-color: #DDD;\n",
              "  }\n",
              "\n",
              "  [theme=dark] .colab-df-quickchart {\n",
              "      --bg-color: #3B4455;\n",
              "      --fill-color: #D2E3FC;\n",
              "      --hover-bg-color: #434B5C;\n",
              "      --hover-fill-color: #FFFFFF;\n",
              "      --disabled-bg-color: #3B4455;\n",
              "      --disabled-fill-color: #666;\n",
              "  }\n",
              "\n",
              "  .colab-df-quickchart {\n",
              "    background-color: var(--bg-color);\n",
              "    border: none;\n",
              "    border-radius: 50%;\n",
              "    cursor: pointer;\n",
              "    display: none;\n",
              "    fill: var(--fill-color);\n",
              "    height: 32px;\n",
              "    padding: 0;\n",
              "    width: 32px;\n",
              "  }\n",
              "\n",
              "  .colab-df-quickchart:hover {\n",
              "    background-color: var(--hover-bg-color);\n",
              "    box-shadow: 0 1px 2px rgba(60, 64, 67, 0.3), 0 1px 3px 1px rgba(60, 64, 67, 0.15);\n",
              "    fill: var(--button-hover-fill-color);\n",
              "  }\n",
              "\n",
              "  .colab-df-quickchart-complete:disabled,\n",
              "  .colab-df-quickchart-complete:disabled:hover {\n",
              "    background-color: var(--disabled-bg-color);\n",
              "    fill: var(--disabled-fill-color);\n",
              "    box-shadow: none;\n",
              "  }\n",
              "\n",
              "  .colab-df-spinner {\n",
              "    border: 2px solid var(--fill-color);\n",
              "    border-color: transparent;\n",
              "    border-bottom-color: var(--fill-color);\n",
              "    animation:\n",
              "      spin 1s steps(1) infinite;\n",
              "  }\n",
              "\n",
              "  @keyframes spin {\n",
              "    0% {\n",
              "      border-color: transparent;\n",
              "      border-bottom-color: var(--fill-color);\n",
              "      border-left-color: var(--fill-color);\n",
              "    }\n",
              "    20% {\n",
              "      border-color: transparent;\n",
              "      border-left-color: var(--fill-color);\n",
              "      border-top-color: var(--fill-color);\n",
              "    }\n",
              "    30% {\n",
              "      border-color: transparent;\n",
              "      border-left-color: var(--fill-color);\n",
              "      border-top-color: var(--fill-color);\n",
              "      border-right-color: var(--fill-color);\n",
              "    }\n",
              "    40% {\n",
              "      border-color: transparent;\n",
              "      border-right-color: var(--fill-color);\n",
              "      border-top-color: var(--fill-color);\n",
              "    }\n",
              "    60% {\n",
              "      border-color: transparent;\n",
              "      border-right-color: var(--fill-color);\n",
              "    }\n",
              "    80% {\n",
              "      border-color: transparent;\n",
              "      border-right-color: var(--fill-color);\n",
              "      border-bottom-color: var(--fill-color);\n",
              "    }\n",
              "    90% {\n",
              "      border-color: transparent;\n",
              "      border-bottom-color: var(--fill-color);\n",
              "    }\n",
              "  }\n",
              "</style>\n",
              "\n",
              "  <script>\n",
              "    async function quickchart(key) {\n",
              "      const quickchartButtonEl =\n",
              "        document.querySelector('#' + key + ' button');\n",
              "      quickchartButtonEl.disabled = true;  // To prevent multiple clicks.\n",
              "      quickchartButtonEl.classList.add('colab-df-spinner');\n",
              "      try {\n",
              "        const charts = await google.colab.kernel.invokeFunction(\n",
              "            'suggestCharts', [key], {});\n",
              "      } catch (error) {\n",
              "        console.error('Error during call to suggestCharts:', error);\n",
              "      }\n",
              "      quickchartButtonEl.classList.remove('colab-df-spinner');\n",
              "      quickchartButtonEl.classList.add('colab-df-quickchart-complete');\n",
              "    }\n",
              "    (() => {\n",
              "      let quickchartButtonEl =\n",
              "        document.querySelector('#df-89792559-93c6-4903-9101-f531f26d24a2 button');\n",
              "      quickchartButtonEl.style.display =\n",
              "        google.colab.kernel.accessAllowed ? 'block' : 'none';\n",
              "    })();\n",
              "  </script>\n",
              "</div>\n",
              "\n",
              "    </div>\n",
              "  </div>\n"
            ],
            "application/vnd.google.colaboratory.intrinsic+json": {
              "type": "dataframe",
              "summary": "{\n  \"name\": \"datos_excel\",\n  \"rows\": 8,\n  \"fields\": [\n    {\n      \"column\": \"Velocidad Entrega\",\n      \"properties\": {\n        \"dtype\": \"number\",\n        \"std\": 34.82664052554335,\n        \"min\": 0.0,\n        \"max\": 100.0,\n        \"num_unique_values\": 8,\n        \"samples\": [\n          1.7575000000000003,\n          1.7,\n          100.0\n        ],\n        \"semantic_type\": \"\",\n        \"description\": \"\"\n      }\n    },\n    {\n      \"column\": \"Precio\",\n      \"properties\": {\n        \"dtype\": \"number\",\n        \"std\": 34.95961714115457,\n        \"min\": 0.1,\n        \"max\": 100.0,\n        \"num_unique_values\": 8,\n        \"samples\": [\n          1.182,\n          1.0750000000000002,\n          100.0\n        ],\n        \"semantic_type\": \"\",\n        \"description\": \"\"\n      }\n    },\n    {\n      \"column\": \"Durabilidad\",\n      \"properties\": {\n        \"dtype\": \"number\",\n        \"std\": 34.166424030649694,\n        \"min\": 0.6932510149267503,\n        \"max\": 100.0,\n        \"num_unique_values\": 8,\n        \"samples\": [\n          3.9470000000000005,\n          4.025,\n          100.0\n        ],\n        \"semantic_type\": \"\",\n        \"description\": \"\"\n      }\n    },\n    {\n      \"column\": \"Imagen Producto\",\n      \"properties\": {\n        \"dtype\": \"number\",\n        \"std\": 34.54718962054097,\n        \"min\": 0.5657068520216478,\n        \"max\": 100.0,\n        \"num_unique_values\": 8,\n        \"samples\": [\n          2.6239999999999997,\n          2.5,\n          100.0\n        ],\n        \"semantic_type\": \"\",\n        \"description\": \"\"\n      }\n    },\n    {\n      \"column\": \"Valor Educativo\",\n      \"properties\": {\n        \"dtype\": \"number\",\n        \"std\": 34.48152937667167,\n        \"min\": 0.7,\n        \"max\": 100.0,\n        \"num_unique_values\": 8,\n        \"samples\": [\n          2.9160000000000004,\n          3.0,\n          100.0\n        ],\n        \"semantic_type\": \"\",\n        \"description\": \"\"\n      }\n    },\n    {\n      \"column\": \"Servicio Retorno\",\n      \"properties\": {\n        \"dtype\": \"number\",\n        \"std\": 34.52000905068598,\n        \"min\": 0.7708548318050372,\n        \"max\": 100.0,\n        \"num_unique_values\": 8,\n        \"samples\": [\n          2.665,\n          2.6,\n          100.0\n        ],\n        \"semantic_type\": \"\",\n        \"description\": \"\"\n      }\n    },\n    {\n      \"column\": \"Tamano Paquete\",\n      \"properties\": {\n        \"dtype\": \"number\",\n        \"std\": 34.28110307739673,\n        \"min\": 0.7926204780487458,\n        \"max\": 100.0,\n        \"num_unique_values\": 8,\n        \"samples\": [\n          3.4855,\n          3.575,\n          100.0\n        ],\n        \"semantic_type\": \"\",\n        \"description\": \"\"\n      }\n    },\n    {\n      \"column\": \"Calidad Producto\",\n      \"properties\": {\n        \"dtype\": \"number\",\n        \"std\": 34.609203353677856,\n        \"min\": 0.42777879443667727,\n        \"max\": 100.0,\n        \"num_unique_values\": 8,\n        \"samples\": [\n          2.3855,\n          2.425,\n          100.0\n        ],\n        \"semantic_type\": \"\",\n        \"description\": \"\"\n      }\n    },\n    {\n      \"column\": \"Numero Estrellas\",\n      \"properties\": {\n        \"dtype\": \"number\",\n        \"std\": 34.403549328734094,\n        \"min\": 0.8988769648732788,\n        \"max\": 100.0,\n        \"num_unique_values\": 8,\n        \"samples\": [\n          3.1100000000000008,\n          3.15,\n          100.0\n        ],\n        \"semantic_type\": \"\",\n        \"description\": \"\"\n      }\n    }\n  ]\n}"
            }
          },
          "metadata": {},
          "execution_count": 107
        }
      ]
    },
    {
      "cell_type": "code",
      "source": [
        "datos_excel.info()"
      ],
      "metadata": {
        "colab": {
          "base_uri": "https://localhost:8080/"
        },
        "id": "jJScUMwTGXhc",
        "outputId": "14797dd5-fcad-49c7-af9c-43c6c18a5b71"
      },
      "execution_count": 108,
      "outputs": [
        {
          "output_type": "stream",
          "name": "stdout",
          "text": [
            "<class 'pandas.core.frame.DataFrame'>\n",
            "RangeIndex: 100 entries, 0 to 99\n",
            "Data columns (total 10 columns):\n",
            " #   Column             Non-Null Count  Dtype  \n",
            "---  ------             --------------  -----  \n",
            " 0   Unnamed: 0         100 non-null    object \n",
            " 1   Velocidad Entrega  100 non-null    float64\n",
            " 2   Precio             100 non-null    float64\n",
            " 3   Durabilidad        100 non-null    float64\n",
            " 4   Imagen Producto    100 non-null    float64\n",
            " 5   Valor Educativo    100 non-null    float64\n",
            " 6   Servicio Retorno   100 non-null    float64\n",
            " 7   Tamano Paquete     100 non-null    float64\n",
            " 8   Calidad Producto   100 non-null    float64\n",
            " 9   Numero Estrellas   100 non-null    float64\n",
            "dtypes: float64(9), object(1)\n",
            "memory usage: 7.9+ KB\n"
          ]
        }
      ]
    }
  ]
}